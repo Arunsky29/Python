{
  "nbformat": 4,
  "nbformat_minor": 0,
  "metadata": {
    "colab": {
      "provenance": [],
      "collapsed_sections": [
        "QvfdxSFJ_NrN",
        "Z74MpaCSEhSX",
        "CV_DZoQ_FLFe",
        "1vf3yWG2GCct",
        "5xrPQpy8HXIE",
        "ZP3R1LdGII5S",
        "PQkqlg4hLDii",
        "xxale02MRjYx"
      ],
      "authorship_tag": "ABX9TyNn1Qrc0z3UtPszMWkSsht6",
      "include_colab_link": true
    },
    "kernelspec": {
      "name": "python3",
      "display_name": "Python 3"
    },
    "language_info": {
      "name": "python"
    }
  },
  "cells": [
    {
      "cell_type": "markdown",
      "metadata": {
        "id": "view-in-github",
        "colab_type": "text"
      },
      "source": [
        "<a href=\"https://colab.research.google.com/github/Arunsky29/Python/blob/main/SCIPY.ipynb\" target=\"_parent\"><img src=\"https://colab.research.google.com/assets/colab-badge.svg\" alt=\"Open In Colab\"/></a>"
      ]
    },
    {
      "cell_type": "markdown",
      "source": [],
      "metadata": {
        "id": "TQlX4OIYHPlv"
      }
    },
    {
      "cell_type": "markdown",
      "source": [
        "#SCIPY-SCIENTIFIC PYTHON"
      ],
      "metadata": {
        "id": "QvfdxSFJ_NrN"
      }
    },
    {
      "cell_type": "code",
      "source": [
        "pip install scipy"
      ],
      "metadata": {
        "colab": {
          "base_uri": "https://localhost:8080/"
        },
        "id": "FGJY18LA_p6Q",
        "outputId": "64bb5baa-b121-43ca-c96c-4a57e2e434dd"
      },
      "execution_count": null,
      "outputs": [
        {
          "output_type": "stream",
          "name": "stdout",
          "text": [
            "Requirement already satisfied: scipy in /usr/local/lib/python3.10/dist-packages (1.11.4)\n",
            "Requirement already satisfied: numpy<1.28.0,>=1.21.6 in /usr/local/lib/python3.10/dist-packages (from scipy) (1.23.5)\n"
          ]
        }
      ]
    },
    {
      "cell_type": "code",
      "source": [
        "import scipy\n",
        "help(scipy)"
      ],
      "metadata": {
        "colab": {
          "base_uri": "https://localhost:8080/"
        },
        "id": "dJC2XuQw_vKs",
        "outputId": "c35c6b57-ed09-4440-e7aa-b194676f6a78"
      },
      "execution_count": null,
      "outputs": [
        {
          "output_type": "stream",
          "name": "stdout",
          "text": [
            "Help on package scipy:\n",
            "\n",
            "NAME\n",
            "    scipy\n",
            "\n",
            "DESCRIPTION\n",
            "    SciPy: A scientific computing package for Python\n",
            "    ================================================\n",
            "    \n",
            "    Documentation is available in the docstrings and\n",
            "    online at https://docs.scipy.org.\n",
            "    \n",
            "    Contents\n",
            "    --------\n",
            "    SciPy imports all the functions from the NumPy namespace, and in\n",
            "    addition provides:\n",
            "    \n",
            "    Subpackages\n",
            "    -----------\n",
            "    Using any of these subpackages requires an explicit import. For example,\n",
            "    ``import scipy.cluster``.\n",
            "    \n",
            "    ::\n",
            "    \n",
            "     cluster                      --- Vector Quantization / Kmeans\n",
            "     constants                    --- Physical and mathematical constants and units\n",
            "     datasets                     --- Dataset methods\n",
            "     fft                          --- Discrete Fourier transforms\n",
            "     fftpack                      --- Legacy discrete Fourier transforms\n",
            "     integrate                    --- Integration routines\n",
            "     interpolate                  --- Interpolation Tools\n",
            "     io                           --- Data input and output\n",
            "     linalg                       --- Linear algebra routines\n",
            "     misc                         --- Utilities that don't have another home.\n",
            "     ndimage                      --- N-D image package\n",
            "     odr                          --- Orthogonal Distance Regression\n",
            "     optimize                     --- Optimization Tools\n",
            "     signal                       --- Signal Processing Tools\n",
            "     sparse                       --- Sparse Matrices\n",
            "     spatial                      --- Spatial data structures and algorithms\n",
            "     special                      --- Special functions\n",
            "     stats                        --- Statistical Functions\n",
            "    \n",
            "    Public API in the main SciPy namespace\n",
            "    --------------------------------------\n",
            "    ::\n",
            "    \n",
            "     __version__       --- SciPy version string\n",
            "     LowLevelCallable  --- Low-level callback function\n",
            "     show_config       --- Show scipy build configuration\n",
            "     test              --- Run scipy unittests\n",
            "\n",
            "PACKAGE CONTENTS\n",
            "    __config__\n",
            "    _distributor_init\n",
            "    _lib (package)\n",
            "    cluster (package)\n",
            "    conftest\n",
            "    constants (package)\n",
            "    datasets (package)\n",
            "    fft (package)\n",
            "    fftpack (package)\n",
            "    integrate (package)\n",
            "    interpolate (package)\n",
            "    io (package)\n",
            "    linalg (package)\n",
            "    misc (package)\n",
            "    ndimage (package)\n",
            "    odr (package)\n",
            "    optimize (package)\n",
            "    signal (package)\n",
            "    sparse (package)\n",
            "    spatial (package)\n",
            "    special (package)\n",
            "    stats (package)\n",
            "    version\n",
            "\n",
            "CLASSES\n",
            "    builtins.tuple(builtins.object)\n",
            "        scipy._lib._ccallback.LowLevelCallable\n",
            "    \n",
            "    class LowLevelCallable(builtins.tuple)\n",
            "     |  LowLevelCallable(function, user_data=None, signature=None)\n",
            "     |  \n",
            "     |  Low-level callback function.\n",
            "     |  \n",
            "     |  Some functions in SciPy take as arguments callback functions, which\n",
            "     |  can either be python callables or low-level compiled functions. Using\n",
            "     |  compiled callback functions can improve performance somewhat by\n",
            "     |  avoiding wrapping data in Python objects.\n",
            "     |  \n",
            "     |  Such low-level functions in SciPy are wrapped in `LowLevelCallable`\n",
            "     |  objects, which can be constructed from function pointers obtained from\n",
            "     |  ctypes, cffi, Cython, or contained in Python `PyCapsule` objects.\n",
            "     |  \n",
            "     |  .. seealso::\n",
            "     |  \n",
            "     |     Functions accepting low-level callables:\n",
            "     |  \n",
            "     |     `scipy.integrate.quad`, `scipy.ndimage.generic_filter`,\n",
            "     |     `scipy.ndimage.generic_filter1d`, `scipy.ndimage.geometric_transform`\n",
            "     |  \n",
            "     |     Usage examples:\n",
            "     |  \n",
            "     |     :ref:`ndimage-ccallbacks`, :ref:`quad-callbacks`\n",
            "     |  \n",
            "     |  Parameters\n",
            "     |  ----------\n",
            "     |  function : {PyCapsule, ctypes function pointer, cffi function pointer}\n",
            "     |      Low-level callback function.\n",
            "     |  user_data : {PyCapsule, ctypes void pointer, cffi void pointer}\n",
            "     |      User data to pass on to the callback function.\n",
            "     |  signature : str, optional\n",
            "     |      Signature of the function. If omitted, determined from *function*,\n",
            "     |      if possible.\n",
            "     |  \n",
            "     |  Attributes\n",
            "     |  ----------\n",
            "     |  function\n",
            "     |      Callback function given.\n",
            "     |  user_data\n",
            "     |      User data given.\n",
            "     |  signature\n",
            "     |      Signature of the function.\n",
            "     |  \n",
            "     |  Methods\n",
            "     |  -------\n",
            "     |  from_cython\n",
            "     |      Class method for constructing callables from Cython C-exported\n",
            "     |      functions.\n",
            "     |  \n",
            "     |  Notes\n",
            "     |  -----\n",
            "     |  The argument ``function`` can be one of:\n",
            "     |  \n",
            "     |  - PyCapsule, whose name contains the C function signature\n",
            "     |  - ctypes function pointer\n",
            "     |  - cffi function pointer\n",
            "     |  \n",
            "     |  The signature of the low-level callback must match one of those expected\n",
            "     |  by the routine it is passed to.\n",
            "     |  \n",
            "     |  If constructing low-level functions from a PyCapsule, the name of the\n",
            "     |  capsule must be the corresponding signature, in the format::\n",
            "     |  \n",
            "     |      return_type (arg1_type, arg2_type, ...)\n",
            "     |  \n",
            "     |  For example::\n",
            "     |  \n",
            "     |      \"void (double)\"\n",
            "     |      \"double (double, int *, void *)\"\n",
            "     |  \n",
            "     |  The context of a PyCapsule passed in as ``function`` is used as ``user_data``,\n",
            "     |  if an explicit value for ``user_data`` was not given.\n",
            "     |  \n",
            "     |  Method resolution order:\n",
            "     |      LowLevelCallable\n",
            "     |      builtins.tuple\n",
            "     |      builtins.object\n",
            "     |  \n",
            "     |  Methods defined here:\n",
            "     |  \n",
            "     |  __getitem__(self, idx)\n",
            "     |      Return self[key].\n",
            "     |  \n",
            "     |  __repr__(self)\n",
            "     |      Return repr(self).\n",
            "     |  \n",
            "     |  ----------------------------------------------------------------------\n",
            "     |  Class methods defined here:\n",
            "     |  \n",
            "     |  from_cython(module, name, user_data=None, signature=None) from builtins.type\n",
            "     |      Create a low-level callback function from an exported Cython function.\n",
            "     |      \n",
            "     |      Parameters\n",
            "     |      ----------\n",
            "     |      module : module\n",
            "     |          Cython module where the exported function resides\n",
            "     |      name : str\n",
            "     |          Name of the exported function\n",
            "     |      user_data : {PyCapsule, ctypes void pointer, cffi void pointer}, optional\n",
            "     |          User data to pass on to the callback function.\n",
            "     |      signature : str, optional\n",
            "     |          Signature of the function. If omitted, determined from *function*.\n",
            "     |  \n",
            "     |  ----------------------------------------------------------------------\n",
            "     |  Static methods defined here:\n",
            "     |  \n",
            "     |  __new__(cls, function, user_data=None, signature=None)\n",
            "     |      Create and return a new object.  See help(type) for accurate signature.\n",
            "     |  \n",
            "     |  ----------------------------------------------------------------------\n",
            "     |  Readonly properties defined here:\n",
            "     |  \n",
            "     |  function\n",
            "     |  \n",
            "     |  signature\n",
            "     |  \n",
            "     |  user_data\n",
            "     |  \n",
            "     |  ----------------------------------------------------------------------\n",
            "     |  Methods inherited from builtins.tuple:\n",
            "     |  \n",
            "     |  __add__(self, value, /)\n",
            "     |      Return self+value.\n",
            "     |  \n",
            "     |  __contains__(self, key, /)\n",
            "     |      Return key in self.\n",
            "     |  \n",
            "     |  __eq__(self, value, /)\n",
            "     |      Return self==value.\n",
            "     |  \n",
            "     |  __ge__(self, value, /)\n",
            "     |      Return self>=value.\n",
            "     |  \n",
            "     |  __getattribute__(self, name, /)\n",
            "     |      Return getattr(self, name).\n",
            "     |  \n",
            "     |  __getnewargs__(self, /)\n",
            "     |  \n",
            "     |  __gt__(self, value, /)\n",
            "     |      Return self>value.\n",
            "     |  \n",
            "     |  __hash__(self, /)\n",
            "     |      Return hash(self).\n",
            "     |  \n",
            "     |  __iter__(self, /)\n",
            "     |      Implement iter(self).\n",
            "     |  \n",
            "     |  __le__(self, value, /)\n",
            "     |      Return self<=value.\n",
            "     |  \n",
            "     |  __len__(self, /)\n",
            "     |      Return len(self).\n",
            "     |  \n",
            "     |  __lt__(self, value, /)\n",
            "     |      Return self<value.\n",
            "     |  \n",
            "     |  __mul__(self, value, /)\n",
            "     |      Return self*value.\n",
            "     |  \n",
            "     |  __ne__(self, value, /)\n",
            "     |      Return self!=value.\n",
            "     |  \n",
            "     |  __rmul__(self, value, /)\n",
            "     |      Return value*self.\n",
            "     |  \n",
            "     |  count(self, value, /)\n",
            "     |      Return number of occurrences of value.\n",
            "     |  \n",
            "     |  index(self, value, start=0, stop=9223372036854775807, /)\n",
            "     |      Return first index of value.\n",
            "     |      \n",
            "     |      Raises ValueError if the value is not present.\n",
            "     |  \n",
            "     |  ----------------------------------------------------------------------\n",
            "     |  Class methods inherited from builtins.tuple:\n",
            "     |  \n",
            "     |  __class_getitem__(...) from builtins.type\n",
            "     |      See PEP 585\n",
            "\n",
            "FUNCTIONS\n",
            "    show_config = show(mode='stdout')\n",
            "        Show libraries and system information on which SciPy was built\n",
            "        and is being used\n",
            "        \n",
            "        Parameters\n",
            "        ----------\n",
            "        mode : {`'stdout'`, `'dicts'`}, optional.\n",
            "            Indicates how to display the config information.\n",
            "            `'stdout'` prints to console, `'dicts'` returns a dictionary\n",
            "            of the configuration.\n",
            "        \n",
            "        Returns\n",
            "        -------\n",
            "        out : {`dict`, `None`}\n",
            "            If mode is `'dicts'`, a dict is returned, else None\n",
            "        \n",
            "        Notes\n",
            "        -----\n",
            "        1. The `'stdout'` mode will give more readable\n",
            "           output if ``pyyaml`` is installed\n",
            "\n",
            "DATA\n",
            "    test = <scipy._lib._testutils.PytestTester object>\n",
            "\n",
            "VERSION\n",
            "    1.11.4\n",
            "\n",
            "FILE\n",
            "    /usr/local/lib/python3.10/dist-packages/scipy/__init__.py\n",
            "\n",
            "\n"
          ]
        }
      ]
    },
    {
      "cell_type": "code",
      "source": [
        "scipy.__all__"
      ],
      "metadata": {
        "colab": {
          "base_uri": "https://localhost:8080/"
        },
        "id": "z7uJuy3RACcq",
        "outputId": "2ee0a8fc-2ad8-49a3-a803-f1fb1477650a"
      },
      "execution_count": null,
      "outputs": [
        {
          "output_type": "execute_result",
          "data": {
            "text/plain": [
              "['cluster',\n",
              " 'constants',\n",
              " 'datasets',\n",
              " 'fft',\n",
              " 'fftpack',\n",
              " 'integrate',\n",
              " 'interpolate',\n",
              " 'io',\n",
              " 'linalg',\n",
              " 'misc',\n",
              " 'ndimage',\n",
              " 'odr',\n",
              " 'optimize',\n",
              " 'signal',\n",
              " 'sparse',\n",
              " 'spatial',\n",
              " 'special',\n",
              " 'stats',\n",
              " 'LowLevelCallable',\n",
              " 'test',\n",
              " 'show_config',\n",
              " '__version__']"
            ]
          },
          "metadata": {},
          "execution_count": 5
        }
      ]
    },
    {
      "cell_type": "markdown",
      "source": [
        "#LINEAR ALGEBRA\n",
        "\n",
        "4x-2y=18\n"
      ],
      "metadata": {
        "id": "Z74MpaCSEhSX"
      }
    },
    {
      "cell_type": "code",
      "source": [
        "# coefficients\n",
        "import numpy as np\n",
        "X=np.array([[4,3],[3,4]])\n",
        "print(X)"
      ],
      "metadata": {
        "colab": {
          "base_uri": "https://localhost:8080/"
        },
        "id": "FQX_eOg0CGLr",
        "outputId": "42baa02f-64be-4583-95a2-922746a04c7a"
      },
      "execution_count": null,
      "outputs": [
        {
          "output_type": "stream",
          "name": "stdout",
          "text": [
            "[[4 3]\n",
            " [3 4]]\n"
          ]
        }
      ]
    },
    {
      "cell_type": "code",
      "source": [
        "# constants\n",
        "Y=np.array([[12],[18]])\n",
        "print(Y)"
      ],
      "metadata": {
        "colab": {
          "base_uri": "https://localhost:8080/"
        },
        "id": "hmfHQmAhD8a2",
        "outputId": "ccda74b8-8473-4874-8bb8-c468ed12cead"
      },
      "execution_count": null,
      "outputs": [
        {
          "output_type": "stream",
          "name": "stdout",
          "text": [
            "[[12]\n",
            " [18]]\n"
          ]
        }
      ]
    },
    {
      "cell_type": "code",
      "source": [
        "from scipy import linalg\n",
        "print(linalg.solve(X,Y))"
      ],
      "metadata": {
        "colab": {
          "base_uri": "https://localhost:8080/"
        },
        "id": "Q-Iz77L4EMNA",
        "outputId": "41be489e-4723-4022-f495-c4a4af49391d"
      },
      "execution_count": null,
      "outputs": [
        {
          "output_type": "stream",
          "name": "stdout",
          "text": [
            "[[-0.85714286]\n",
            " [ 5.14285714]]\n"
          ]
        }
      ]
    },
    {
      "cell_type": "markdown",
      "source": [
        "# CHECKING ANSWERS\n",
        "\n",
        "X.x=Y"
      ],
      "metadata": {
        "id": "CV_DZoQ_FLFe"
      }
    },
    {
      "cell_type": "code",
      "source": [
        "print(X.dot(linalg.solve(X,Y))-Y)"
      ],
      "metadata": {
        "colab": {
          "base_uri": "https://localhost:8080/"
        },
        "id": "REbVAaTvFOrM",
        "outputId": "a310faeb-427f-472e-ecae-441f4e4e5d85"
      },
      "execution_count": null,
      "outputs": [
        {
          "output_type": "stream",
          "name": "stdout",
          "text": [
            "[[0.]\n",
            " [0.]]\n"
          ]
        }
      ]
    },
    {
      "cell_type": "markdown",
      "source": [
        "# LINEAR ALGEBRA USING 3 VARIABLES\n",
        "x+2y-3z=-3\n",
        "2x-5y+4z=13\n",
        "5x+4y-z=5"
      ],
      "metadata": {
        "id": "1vf3yWG2GCct"
      }
    },
    {
      "cell_type": "code",
      "source": [
        "a=np.array([[1,2,-3],[2,-5,4],[5,4,-1]])\n",
        "b=np.array([[-3],[13],[5]])\n",
        "x=linalg.solve(a,b)\n",
        "x"
      ],
      "metadata": {
        "colab": {
          "base_uri": "https://localhost:8080/"
        },
        "id": "S5g5y3ylGB_l",
        "outputId": "3503be83-132d-4825-9cc3-345a9b0db659"
      },
      "execution_count": null,
      "outputs": [
        {
          "output_type": "execute_result",
          "data": {
            "text/plain": [
              "array([[ 2.],\n",
              "       [-1.],\n",
              "       [ 1.]])"
            ]
          },
          "metadata": {},
          "execution_count": 15
        }
      ]
    },
    {
      "cell_type": "code",
      "source": [
        "# CHECKING\n",
        "print(np.dot(a,x)==b)"
      ],
      "metadata": {
        "colab": {
          "base_uri": "https://localhost:8080/"
        },
        "id": "U8bham6nG_rY",
        "outputId": "2f13b0f1-dbfb-4810-b1e3-3ec9e1d7c8d4"
      },
      "execution_count": null,
      "outputs": [
        {
          "output_type": "stream",
          "name": "stdout",
          "text": [
            "[[ True]\n",
            " [ True]\n",
            " [ True]]\n"
          ]
        }
      ]
    },
    {
      "cell_type": "markdown",
      "source": [
        "# DETERMINANTS"
      ],
      "metadata": {
        "id": "5xrPQpy8HXIE"
      }
    },
    {
      "cell_type": "markdown",
      "source": [
        "[[2 4]\n",
        " [4 12]  2*12=24 , 4*4=16  24-16=8"
      ],
      "metadata": {
        "id": "UUp4PRzPHwnC"
      }
    },
    {
      "cell_type": "code",
      "source": [
        "deter=np.array([[2,4],[4,12]])\n",
        "print(linalg.det(deter))"
      ],
      "metadata": {
        "colab": {
          "base_uri": "https://localhost:8080/"
        },
        "id": "eHX3kFUYHbwB",
        "outputId": "0ce1b318-fcf8-4ef1-a98e-91abaf9c236b"
      },
      "execution_count": null,
      "outputs": [
        {
          "output_type": "stream",
          "name": "stdout",
          "text": [
            "8.0\n"
          ]
        }
      ]
    },
    {
      "cell_type": "markdown",
      "source": [
        "# INTEGRATION\n",
        "QUAD - GENERAL INTEGRATION\n",
        "DBLQUAD - DOUBLE INTEGRATION\n",
        "RESULTS  - VALUE,ERROR"
      ],
      "metadata": {
        "id": "ZP3R1LdGII5S"
      }
    },
    {
      "cell_type": "code",
      "source": [
        "# Numerical Integration Singular\n",
        "from scipy import integrate\n",
        "integrate.quad(lambda x:3*x**2+2*x+6,0,2)"
      ],
      "metadata": {
        "colab": {
          "base_uri": "https://localhost:8080/"
        },
        "id": "LetA6rUMIImD",
        "outputId": "3126d992-625e-4546-8e34-4ff95a913df0"
      },
      "execution_count": null,
      "outputs": [
        {
          "output_type": "execute_result",
          "data": {
            "text/plain": [
              "(24.0, 2.6645352591003757e-13)"
            ]
          },
          "metadata": {},
          "execution_count": 18
        }
      ]
    },
    {
      "cell_type": "code",
      "source": [
        "# Double Integration\n",
        "f=lambda y,x:x*y**2\n",
        "integrate.dblquad(f,0,2,0,1)"
      ],
      "metadata": {
        "colab": {
          "base_uri": "https://localhost:8080/"
        },
        "id": "1gOSctYCJpXp",
        "outputId": "c469a53e-9609-4da5-d258-2dcc0e527362"
      },
      "execution_count": null,
      "outputs": [
        {
          "output_type": "execute_result",
          "data": {
            "text/plain": [
              "(0.6666666666666667, 7.401486830834377e-15)"
            ]
          },
          "metadata": {},
          "execution_count": 21
        }
      ]
    },
    {
      "cell_type": "markdown",
      "source": [
        "# DIFFERENTIATION\n",
        " ODE= ORDINARY DIFFERENTIAL EQUATIONS\n",
        " FROM INTEGRATION"
      ],
      "metadata": {
        "id": "PQkqlg4hLDii"
      }
    },
    {
      "cell_type": "code",
      "source": [
        "t=np.linspace(0,5)\n",
        "t"
      ],
      "metadata": {
        "colab": {
          "base_uri": "https://localhost:8080/"
        },
        "id": "-KdKfJO7PUg6",
        "outputId": "d162f0d4-bc0e-40ef-ad58-d9f6b6585d1e"
      },
      "execution_count": null,
      "outputs": [
        {
          "output_type": "execute_result",
          "data": {
            "text/plain": [
              "array([0.        , 0.10204082, 0.20408163, 0.30612245, 0.40816327,\n",
              "       0.51020408, 0.6122449 , 0.71428571, 0.81632653, 0.91836735,\n",
              "       1.02040816, 1.12244898, 1.2244898 , 1.32653061, 1.42857143,\n",
              "       1.53061224, 1.63265306, 1.73469388, 1.83673469, 1.93877551,\n",
              "       2.04081633, 2.14285714, 2.24489796, 2.34693878, 2.44897959,\n",
              "       2.55102041, 2.65306122, 2.75510204, 2.85714286, 2.95918367,\n",
              "       3.06122449, 3.16326531, 3.26530612, 3.36734694, 3.46938776,\n",
              "       3.57142857, 3.67346939, 3.7755102 , 3.87755102, 3.97959184,\n",
              "       4.08163265, 4.18367347, 4.28571429, 4.3877551 , 4.48979592,\n",
              "       4.59183673, 4.69387755, 4.79591837, 4.89795918, 5.        ])"
            ]
          },
          "metadata": {},
          "execution_count": 26
        }
      ]
    },
    {
      "cell_type": "code",
      "source": [
        "from scipy.integrate import odeint\n",
        "def res_dydt(y,t):\n",
        "  dydt=13*np.exp(t)+y\n",
        "  return dydt\n",
        "# Initial Conditions\n",
        "y0=1\n",
        "#time\n",
        "t=np.linspace(0,5)\n",
        "y=odeint(res_dydt,y0,t)\n",
        "print(y)"
      ],
      "metadata": {
        "colab": {
          "base_uri": "https://localhost:8080/"
        },
        "id": "9JxQC-dCLHob",
        "outputId": "1dbd79f0-d30d-4f56-c1cc-4b181b4efd2a"
      },
      "execution_count": null,
      "outputs": [
        {
          "output_type": "stream",
          "name": "stdout",
          "text": [
            "[[1.00000000e+00]\n",
            " [2.57646674e+00]\n",
            " [4.48010803e+00]\n",
            " [6.76302577e+00]\n",
            " [9.48474059e+00]\n",
            " [1.27131843e+01]\n",
            " [1.65258203e+01]\n",
            " [2.10109073e+01]\n",
            " [2.62689249e+01]\n",
            " [3.24141810e+01]\n",
            " [3.95766230e+01]\n",
            " [4.79038788e+01]\n",
            " [5.75635561e+01]\n",
            " [6.87458312e+01]\n",
            " [8.16663638e+01]\n",
            " [9.65695779e+01]\n",
            " [1.13732352e+02]\n",
            " [1.33468172e+02]\n",
            " [1.56131802e+02]\n",
            " [1.82124534e+02]\n",
            " [2.11900090e+02]\n",
            " [2.45971260e+02]\n",
            " [2.84917348e+02]\n",
            " [3.29392555e+02]\n",
            " [3.80135378e+02]\n",
            " [4.37979177e+02]\n",
            " [5.03864029e+02]\n",
            " [5.78850043e+02]\n",
            " [6.64132299e+02]\n",
            " [7.61057611e+02]\n",
            " [8.71143342e+02]\n",
            " [9.96098495e+02]\n",
            " [1.13784739e+03]\n",
            " [1.29855617e+03]\n",
            " [1.48066262e+03]\n",
            " [1.68690944e+03]\n",
            " [1.92038170e+03]\n",
            " [2.18454870e+03]\n",
            " [2.48331095e+03]\n",
            " [2.82105276e+03]\n",
            " [3.20270119e+03]\n",
            " [3.63379204e+03]\n",
            " [4.12054382e+03]\n",
            " [4.66994048e+03]\n",
            " [5.28982419e+03]\n",
            " [5.98899906e+03]\n",
            " [6.77734734e+03]\n",
            " [7.66595949e+03]\n",
            " [8.66727967e+03]\n",
            " [9.79526862e+03]]\n"
          ]
        }
      ]
    },
    {
      "cell_type": "markdown",
      "source": [
        "MATPLOTLIB= Mathematical Plotting Library"
      ],
      "metadata": {
        "id": "vi5Fh5vqQD9O"
      }
    },
    {
      "cell_type": "code",
      "source": [
        "import matplotlib.pyplot as plt\n",
        "plt.plot(t,y)\n",
        "plt.xlabel('Time')\n",
        "plt.ylabel('Y')\n",
        "plt.show()"
      ],
      "metadata": {
        "colab": {
          "base_uri": "https://localhost:8080/",
          "height": 449
        },
        "id": "Vsrjs7GxQLsl",
        "outputId": "1dbcfaae-5c03-4386-f3a3-a5735084b57a"
      },
      "execution_count": null,
      "outputs": [
        {
          "output_type": "display_data",
          "data": {
            "text/plain": [
              "<Figure size 640x480 with 1 Axes>"
            ],
            "image/png": "[encoded data removed]"
          },
          "metadata": {}
        }
      ]
    },
    {
      "cell_type": "markdown",
      "source": [
        "# SPARSE MATRIX = Only Necessary Values\n",
        "# DENSE MATRIX = All Values\n",
        "csc_matrix = Column\n",
        "csr_matrix = Row"
      ],
      "metadata": {
        "id": "xxale02MRjYx"
      }
    },
    {
      "cell_type": "code",
      "source": [
        "# Row\n",
        "from scipy.sparse import csr_matrix\n",
        "arr=np.array([0,0,8,0,0,1,1,0,2])\n",
        "print(csr_matrix(arr))"
      ],
      "metadata": {
        "colab": {
          "base_uri": "https://localhost:8080/"
        },
        "id": "0w5Ibky5Rt69",
        "outputId": "346b14c9-106c-4c21-eaec-f4964c7cbee3"
      },
      "execution_count": null,
      "outputs": [
        {
          "output_type": "stream",
          "name": "stdout",
          "text": [
            "  (0, 2)\t8\n",
            "  (0, 5)\t1\n",
            "  (0, 6)\t1\n",
            "  (0, 8)\t2\n"
          ]
        }
      ]
    },
    {
      "cell_type": "code",
      "source": [
        "A=np.array([[8,0,0,0,5,0],[0,0,2,0,0,1],[0,0,0,2,0,0]])\n",
        "print('Dense Matrix \\n',A)\n",
        "R=csr_matrix(A)\n",
        "print('Sparse Row Matrix \\n',R)\n",
        "# Column\n",
        "from scipy.sparse import csc_matrix\n",
        "C=csc_matrix(A)\n",
        "print('Sparse Column Matrix \\n',C)"
      ],
      "metadata": {
        "colab": {
          "base_uri": "https://localhost:8080/"
        },
        "id": "NaBHHwbyTsTX",
        "outputId": "d4bd07ce-0811-4c94-84e9-7de32aa5a98d"
      },
      "execution_count": null,
      "outputs": [
        {
          "output_type": "stream",
          "name": "stdout",
          "text": [
            "Dense Matrix \n",
            " [[8 0 0 0 5 0]\n",
            " [0 0 2 0 0 1]\n",
            " [0 0 0 2 0 0]]\n",
            "Sparse Row Matrix \n",
            "   (0, 0)\t8\n",
            "  (0, 4)\t5\n",
            "  (1, 2)\t2\n",
            "  (1, 5)\t1\n",
            "  (2, 3)\t2\n",
            "Sparse Column Matrix \n",
            "   (0, 0)\t8\n",
            "  (1, 2)\t2\n",
            "  (2, 3)\t2\n",
            "  (0, 4)\t5\n",
            "  (1, 5)\t1\n"
          ]
        }
      ]
    },
    {
      "cell_type": "code",
      "source": [
        "# Sparse to dense\n",
        "Dense=R.todense()\n",
        "Dense"
      ],
      "metadata": {
        "colab": {
          "base_uri": "https://localhost:8080/"
        },
        "id": "KPw_jvBHUiMo",
        "outputId": "8adb9804-df68-453a-861a-a84a005f8cdc"
      },
      "execution_count": null,
      "outputs": [
        {
          "output_type": "execute_result",
          "data": {
            "text/plain": [
              "matrix([[8, 0, 0, 0, 5, 0],\n",
              "        [0, 0, 2, 0, 0, 1],\n",
              "        [0, 0, 0, 2, 0, 0]])"
            ]
          },
          "metadata": {},
          "execution_count": 51
        }
      ]
    },
    {
      "cell_type": "code",
      "source": [
        "# To Show Only Data\n",
        "print('Row \\n',csr_matrix(Dense).data)\n",
        "print('Column \\n',csc_matrix(Dense).data)"
      ],
      "metadata": {
        "colab": {
          "base_uri": "https://localhost:8080/"
        },
        "id": "irgvFSwWVwBN",
        "outputId": "851be533-8eb4-49f8-b5e9-549ef183ce12"
      },
      "execution_count": null,
      "outputs": [
        {
          "output_type": "stream",
          "name": "stdout",
          "text": [
            "Row \n",
            " [8 5 2 1 2]\n",
            "Column \n",
            " [8 2 2 5 1]\n"
          ]
        }
      ]
    },
    {
      "cell_type": "code",
      "source": [
        "# To Count Data Only\n",
        "print('Row \\n',csr_matrix(Dense).count_nonzero())\n",
        "print('Column \\n',csc_matrix(Dense).count_nonzero())"
      ],
      "metadata": {
        "colab": {
          "base_uri": "https://localhost:8080/"
        },
        "id": "F6LhdHfKWRht",
        "outputId": "326a3e67-9ce9-4e52-b895-dbbed0f97b29"
      },
      "execution_count": null,
      "outputs": [
        {
          "output_type": "stream",
          "name": "stdout",
          "text": [
            "Row \n",
            " 5\n",
            "Column \n",
            " 5\n"
          ]
        }
      ]
    },
    {
      "cell_type": "markdown",
      "source": [
        "# EIGENVALUES & EIGENVECTORS"
      ],
      "metadata": {
        "id": "gcxHEQ2THk_r"
      }
    },
    {
      "cell_type": "code",
      "source": [
        "from scipy import linalg\n",
        "import numpy as np"
      ],
      "metadata": {
        "id": "QVbth2LdHras"
      },
      "execution_count": 1,
      "outputs": []
    },
    {
      "cell_type": "code",
      "source": [
        "arr=np.array([[3,7],[8,3]])\n",
        "eigen_values,eigen_vectors=linalg.eig(arr)\n",
        "print('eigen_values',eigen_values)\n",
        "print('eigen_vectors',eigen_vectors)"
      ],
      "metadata": {
        "colab": {
          "base_uri": "https://localhost:8080/"
        },
        "id": "KcmHdOVIIXL9",
        "outputId": "4c6e06cb-860b-498d-efb7-ad9b19b8e478"
      },
      "execution_count": 4,
      "outputs": [
        {
          "output_type": "stream",
          "name": "stdout",
          "text": [
            "eigen_values [10.48331477+0.j -4.48331477+0.j]\n",
            "eigen_vectors [[ 0.68313005 -0.68313005]\n",
            " [ 0.73029674  0.73029674]]\n"
          ]
        }
      ]
    },
    {
      "cell_type": "markdown",
      "source": [
        "# SINGULAR VALUE DECOMPOSITION(SVD)"
      ],
      "metadata": {
        "id": "jkWonmCfJMHa"
      }
    },
    {
      "cell_type": "code",
      "source": [
        "from scipy.linalg import svd"
      ],
      "metadata": {
        "id": "9ZPlLphTKO9W"
      },
      "execution_count": 7,
      "outputs": []
    },
    {
      "cell_type": "code",
      "source": [
        "a=np.array([[1,2],[3,4],[5,6]])\n",
        "u,s,v=svd(a)\n",
        "print('Left Singular Vectors \\n',u)\n",
        "print('\\n Singular Values \\n',s)\n",
        "print('\\n Right Singular Vectors \\n',v)"
      ],
      "metadata": {
        "colab": {
          "base_uri": "https://localhost:8080/"
        },
        "id": "hT6svOzrJRdb",
        "outputId": "11da5e1c-5363-49d1-bd6b-d96e5e0ee300"
      },
      "execution_count": 6,
      "outputs": [
        {
          "output_type": "stream",
          "name": "stdout",
          "text": [
            "Left Singular Vectors \n",
            " [[-0.2298477   0.88346102  0.40824829]\n",
            " [-0.52474482  0.24078249 -0.81649658]\n",
            " [-0.81964194 -0.40189603  0.40824829]]\n",
            "\n",
            " Singular Values \n",
            " [9.52551809 0.51430058]\n",
            "\n",
            " Right Singular Vectors \n",
            " [[-0.61962948 -0.78489445]\n",
            " [-0.78489445  0.61962948]]\n"
          ]
        }
      ]
    },
    {
      "cell_type": "markdown",
      "source": [
        "# FAST FOURIER TRANSFORM(FFT)"
      ],
      "metadata": {
        "id": "QKXybZypKT3D"
      }
    },
    {
      "cell_type": "code",
      "source": [
        "from scipy import fftpack\n",
        "from matplotlib import pyplot as plt"
      ],
      "metadata": {
        "id": "A803WDeZKsYR"
      },
      "execution_count": 10,
      "outputs": []
    },
    {
      "cell_type": "code",
      "source": [
        "np.random.seed(1234)\n",
        "\n",
        "time_step=0.02\n",
        "time_period=5.\n",
        "\n",
        "time_vec=np.arange(0,20,time_step)\n",
        "sig=(np.sin(2*np.pi/time_period*time_vec)+0.5*np.random.randn(time_vec.size))\n",
        "plt.figure(figsize=(6,5))\n",
        "plt.plot(time_vec,sig,label='Original Signal')"
      ],
      "metadata": {
        "colab": {
          "base_uri": "https://localhost:8080/",
          "height": 462
        },
        "id": "ZYRrmVPpKxmL",
        "outputId": "45cd5141-80eb-44da-b730-c2bb8e3caac4"
      },
      "execution_count": 18,
      "outputs": [
        {
          "output_type": "execute_result",
          "data": {
            "text/plain": [
              "[<matplotlib.lines.Line2D at 0x78c041da3280>]"
            ]
          },
          "metadata": {},
          "execution_count": 18
        },
        {
          "output_type": "display_data",
          "data": {
            "text/plain": [
              "<Figure size 600x500 with 1 Axes>"
            ],
            "image/png": "[encoded data removed]"
          },
          "metadata": {}
        }
      ]
    },
    {
      "cell_type": "markdown",
      "source": [
        "# STATISTICAL ANALYSIS"
      ],
      "metadata": {
        "id": "I6V0t9BtMaOL"
      }
    },
    {
      "cell_type": "code",
      "source": [
        "from scipy import stats as st\n",
        "ages=np.array([12,22,33,44,5,34,77,45,67,45,23,85,12,12,3,37,41])\n",
        "print(st.describe(ages))"
      ],
      "metadata": {
        "colab": {
          "base_uri": "https://localhost:8080/"
        },
        "id": "5MEIra3-MfMN",
        "outputId": "63e602aa-3a2f-4348-de08-ddacedd2e51c"
      },
      "execution_count": 16,
      "outputs": [
        {
          "output_type": "stream",
          "name": "stdout",
          "text": [
            "DescribeResult(nobs=17, minmax=(3, 85), mean=35.11764705882353, variance=589.8602941176471, skewness=0.5903407431488474, kurtosis=-0.4953693840226361)\n"
          ]
        }
      ]
    },
    {
      "cell_type": "code",
      "source": [
        "print(st.mode(ages))"
      ],
      "metadata": {
        "colab": {
          "base_uri": "https://localhost:8080/"
        },
        "id": "D_WyB90FOKf7",
        "outputId": "cbf7e474-6d04-4093-80de-0d9c41f235a6"
      },
      "execution_count": 19,
      "outputs": [
        {
          "output_type": "stream",
          "name": "stdout",
          "text": [
            "ModeResult(mode=12, count=3)\n"
          ]
        }
      ]
    },
    {
      "cell_type": "code",
      "source": [
        "len(ages)"
      ],
      "metadata": {
        "colab": {
          "base_uri": "https://localhost:8080/"
        },
        "id": "AYe1_k7TOcS_",
        "outputId": "4e141541-fc58-4404-f5d4-66cb72c70ccf"
      },
      "execution_count": 20,
      "outputs": [
        {
          "output_type": "execute_result",
          "data": {
            "text/plain": [
              "17"
            ]
          },
          "metadata": {},
          "execution_count": 20
        }
      ]
    },
    {
      "cell_type": "code",
      "source": [
        "np.mean(ages)"
      ],
      "metadata": {
        "colab": {
          "base_uri": "https://localhost:8080/"
        },
        "id": "5deSB34ZRcwj",
        "outputId": "deb5b2d2-207a-41c9-b559-014a53cbd1bc"
      },
      "execution_count": 21,
      "outputs": [
        {
          "output_type": "execute_result",
          "data": {
            "text/plain": [
              "35.11764705882353"
            ]
          },
          "metadata": {},
          "execution_count": 21
        }
      ]
    },
    {
      "cell_type": "markdown",
      "source": [
        "# HYPOTHESIS TESTING - H0 & H1\n",
        "H0-NULL-NO DIFFERENCE\n",
        "H1-ALTERNATE-DIFERENCES\n",
        "ANOVA-ANALYSIS OF VARIANCE\n",
        "T-TEST - SMALL SAMPLES\n",
        "Z-TEST - LARGE SAMPLES"
      ],
      "metadata": {
        "id": "_yiHzgAKOijK"
      }
    },
    {
      "cell_type": "code",
      "source": [
        "from scipy.stats import ttest_1samp"
      ],
      "metadata": {
        "id": "o2JjNgoHSCwR"
      },
      "execution_count": 63,
      "outputs": []
    },
    {
      "cell_type": "code",
      "source": [
        "sample_size=10\n",
        "sample_age=np.random.choice(ages,sample_size)\n",
        "print(sample_age)"
      ],
      "metadata": {
        "colab": {
          "base_uri": "https://localhost:8080/"
        },
        "id": "xlmFGcaXRl7x",
        "outputId": "87322d36-f381-43ed-af01-467501d815e6"
      },
      "execution_count": 64,
      "outputs": [
        {
          "output_type": "stream",
          "name": "stdout",
          "text": [
            "[ 5 12  3 41 12  3  3 45 12 12]\n"
          ]
        }
      ]
    },
    {
      "cell_type": "code",
      "source": [
        "ttest,p_value=ttest_1samp(sample_age,35)\n",
        "print(p_value)"
      ],
      "metadata": {
        "colab": {
          "base_uri": "https://localhost:8080/"
        },
        "id": "Lw0GRr5LSEmX",
        "outputId": "83ee4db1-134e-4a6b-c7e7-b97a4de09e98"
      },
      "execution_count": 65,
      "outputs": [
        {
          "output_type": "stream",
          "name": "stdout",
          "text": [
            "0.002525205394624743\n"
          ]
        }
      ]
    },
    {
      "cell_type": "code",
      "source": [
        "if p_value<0.05:\n",
        "  print('Reject Null Hypothesis')\n",
        "else:\n",
        "  print('Accept Null Hypothesis')"
      ],
      "metadata": {
        "colab": {
          "base_uri": "https://localhost:8080/"
        },
        "id": "kYLnnqSfSbFX",
        "outputId": "050fdec1-cb51-4046-bcd9-1f7a48e841fa"
      },
      "execution_count": 66,
      "outputs": [
        {
          "output_type": "stream",
          "name": "stdout",
          "text": [
            "Reject Null Hypothesis\n"
          ]
        }
      ]
    },
    {
      "cell_type": "markdown",
      "source": [
        "## CHI SQUARE TEST"
      ],
      "metadata": {
        "id": "dWr6OZRKT4IA"
      }
    },
    {
      "cell_type": "code",
      "source": [
        "import scipy.stats as st\n",
        "import seaborn as sns\n",
        "import pandas as pd\n",
        "import numpy as np"
      ],
      "metadata": {
        "id": "thPZ0JjkTK1n"
      },
      "execution_count": 67,
      "outputs": []
    },
    {
      "cell_type": "code",
      "source": [
        "dataset=sns.load_dataset('tips')\n",
        "print(dataset)"
      ],
      "metadata": {
        "colab": {
          "base_uri": "https://localhost:8080/"
        },
        "id": "g_YVw0_nUJu3",
        "outputId": "19edb87b-9c13-434f-ab85-0ae205bac958"
      },
      "execution_count": 68,
      "outputs": [
        {
          "output_type": "stream",
          "name": "stdout",
          "text": [
            "     total_bill   tip     sex smoker   day    time  size\n",
            "0         16.99  1.01  Female     No   Sun  Dinner     2\n",
            "1         10.34  1.66    Male     No   Sun  Dinner     3\n",
            "2         21.01  3.50    Male     No   Sun  Dinner     3\n",
            "3         23.68  3.31    Male     No   Sun  Dinner     2\n",
            "4         24.59  3.61  Female     No   Sun  Dinner     4\n",
            "..          ...   ...     ...    ...   ...     ...   ...\n",
            "239       29.03  5.92    Male     No   Sat  Dinner     3\n",
            "240       27.18  2.00  Female    Yes   Sat  Dinner     2\n",
            "241       22.67  2.00    Male    Yes   Sat  Dinner     2\n",
            "242       17.82  1.75    Male     No   Sat  Dinner     2\n",
            "243       18.78  3.00  Female     No  Thur  Dinner     2\n",
            "\n",
            "[244 rows x 7 columns]\n"
          ]
        }
      ]
    },
    {
      "cell_type": "code",
      "source": [
        "# relate sex and smokers\n",
        "dataset_table=pd.crosstab(dataset['sex'],dataset['smoker'])\n",
        "print(dataset_table)"
      ],
      "metadata": {
        "colab": {
          "base_uri": "https://localhost:8080/"
        },
        "id": "eXrDNIbsVcqa",
        "outputId": "ac05108b-1725-4639-bae4-a6e2ad587fd1"
      },
      "execution_count": 69,
      "outputs": [
        {
          "output_type": "stream",
          "name": "stdout",
          "text": [
            "smoker  Yes  No\n",
            "sex            \n",
            "Male     60  97\n",
            "Female   33  54\n"
          ]
        }
      ]
    },
    {
      "cell_type": "code",
      "source": [
        "dataset_table.values"
      ],
      "metadata": {
        "colab": {
          "base_uri": "https://localhost:8080/"
        },
        "id": "-enxDfDKVu5H",
        "outputId": "7ffdf0f5-617a-43a6-d777-b72b541c3be9"
      },
      "execution_count": 70,
      "outputs": [
        {
          "output_type": "execute_result",
          "data": {
            "text/plain": [
              "array([[60, 97],\n",
              "       [33, 54]])"
            ]
          },
          "metadata": {},
          "execution_count": 70
        }
      ]
    },
    {
      "cell_type": "code",
      "source": [
        "# Observed Values- dataset\n",
        "observed_values=dataset_table.values\n",
        "print('Observes Values\\n',observed_values)"
      ],
      "metadata": {
        "colab": {
          "base_uri": "https://localhost:8080/"
        },
        "id": "q7OzDoBFVyZf",
        "outputId": "3c4ae61f-27b0-40cb-9734-d925ecd84657"
      },
      "execution_count": 71,
      "outputs": [
        {
          "output_type": "stream",
          "name": "stdout",
          "text": [
            "Observes Values\n",
            " [[60 97]\n",
            " [33 54]]\n"
          ]
        }
      ]
    },
    {
      "cell_type": "code",
      "source": [
        "val=st.chi2_contingency(dataset_table)\n",
        "print(val)"
      ],
      "metadata": {
        "colab": {
          "base_uri": "https://localhost:8080/"
        },
        "id": "VI4-bi5yWLOd",
        "outputId": "51445920-5e86-4c39-e1ee-bee2b35c0d47"
      },
      "execution_count": 72,
      "outputs": [
        {
          "output_type": "stream",
          "name": "stdout",
          "text": [
            "Chi2ContingencyResult(statistic=0.0, pvalue=1.0, dof=1, expected_freq=array([[59.84016393, 97.15983607],\n",
            "       [33.15983607, 53.84016393]]))\n"
          ]
        }
      ]
    },
    {
      "cell_type": "code",
      "source": [
        "expected_values=val[3]\n",
        "print('Expected Values\\n',expected_values)"
      ],
      "metadata": {
        "colab": {
          "base_uri": "https://localhost:8080/"
        },
        "id": "NccWPdKzWpkg",
        "outputId": "869e410d-46a8-4a0e-cf7a-eaa14cd30cd7"
      },
      "execution_count": 73,
      "outputs": [
        {
          "output_type": "stream",
          "name": "stdout",
          "text": [
            "Expected Values\n",
            " [[59.84016393 97.15983607]\n",
            " [33.15983607 53.84016393]]\n"
          ]
        }
      ]
    },
    {
      "cell_type": "markdown",
      "source": [
        "Chi Square Formula =\n",
        "![image.png](data:image/png;base64,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)"
      ],
      "metadata": {
        "id": "-JICQBYmXWj8"
      }
    },
    {
      "cell_type": "code",
      "source": [
        "# sex smoker data table\n",
        "no_of_rows=len(dataset_table.iloc[0:2,0])\n",
        "no_of_column=len(dataset_table.iloc[0,0:2])\n",
        "degree_of_freedom=(no_of_rows-1)*(no_of_column-1)\n",
        "print(degree_of_freedom)\n",
        "alpha=0.05"
      ],
      "metadata": {
        "colab": {
          "base_uri": "https://localhost:8080/"
        },
        "id": "oGFOM1a5XXwg",
        "outputId": "b2c2851f-fd48-4f1a-b0ae-25dacfeb02db"
      },
      "execution_count": 74,
      "outputs": [
        {
          "output_type": "stream",
          "name": "stdout",
          "text": [
            "1\n"
          ]
        }
      ]
    },
    {
      "cell_type": "code",
      "source": [
        "from scipy.stats import chi2\n",
        "chi_square=sum([(o-e)**2./e for o,e in zip(observed_values,expected_values)])\n",
        "print(chi_square)"
      ],
      "metadata": {
        "colab": {
          "base_uri": "https://localhost:8080/"
        },
        "id": "CSDnHet2Y08T",
        "outputId": "1f49cdba-0c1d-4a36-c2d6-3499fb665cea"
      },
      "execution_count": 75,
      "outputs": [
        {
          "output_type": "stream",
          "name": "stdout",
          "text": [
            "[0.00119737 0.00073745]\n"
          ]
        }
      ]
    },
    {
      "cell_type": "code",
      "source": [
        "chi_square_statistics=chi_square[0]+chi_square[1]\n",
        "print(chi_square_statistics)"
      ],
      "metadata": {
        "colab": {
          "base_uri": "https://localhost:8080/"
        },
        "id": "xJk1W4iraCsz",
        "outputId": "47339f84-9bf2-4ede-ee23-88c3caa43ffc"
      },
      "execution_count": 76,
      "outputs": [
        {
          "output_type": "stream",
          "name": "stdout",
          "text": [
            "0.001934818536627623\n"
          ]
        }
      ]
    },
    {
      "cell_type": "code",
      "source": [
        "# critical value method\n",
        "# PPF- Percent Point Function\n",
        "critical_value=chi2.ppf(q=1-alpha,df=degree_of_freedom)\n",
        "print(critical_value)"
      ],
      "metadata": {
        "colab": {
          "base_uri": "https://localhost:8080/"
        },
        "id": "Mnn6kXH2aS1F",
        "outputId": "7615cde5-f67a-412c-a4c4-a0bf8d2f3f45"
      },
      "execution_count": 77,
      "outputs": [
        {
          "output_type": "stream",
          "name": "stdout",
          "text": [
            "3.841458820694124\n"
          ]
        }
      ]
    },
    {
      "cell_type": "code",
      "source": [
        "#Second Method\n",
        "p_value=1-chi2.cdf(x=chi_square_statistics,df=degree_of_freedom)\n",
        "print('P-Value',p_value)\n",
        "print('Significance Level',alpha)\n",
        "print(degree_of_freedom,'P-Value',p_value)"
      ],
      "metadata": {
        "colab": {
          "base_uri": "https://localhost:8080/"
        },
        "id": "vIZgA1nIbML2",
        "outputId": "c9ddc039-5314-47cd-e7b3-7ffd85627613"
      },
      "execution_count": 78,
      "outputs": [
        {
          "output_type": "stream",
          "name": "stdout",
          "text": [
            "P-Value 0.964915107315732\n",
            "Significance Level 0.05\n",
            "1 P-Value 0.964915107315732\n"
          ]
        }
      ]
    },
    {
      "cell_type": "code",
      "source": [
        "if chi_square_statistics>=critical_value:\n",
        "  print('Reject ho two term related')\n",
        "else:\n",
        "  print('retain ho not related')"
      ],
      "metadata": {
        "colab": {
          "base_uri": "https://localhost:8080/"
        },
        "id": "wPYsE0w5b5cv",
        "outputId": "fd7b51fa-1806-4555-f7c1-e60e3dffd247"
      },
      "execution_count": 79,
      "outputs": [
        {
          "output_type": "stream",
          "name": "stdout",
          "text": [
            "retain ho not related\n"
          ]
        }
      ]
    },
    {
      "cell_type": "code",
      "source": [
        "if p_value<=alpha:\n",
        "  print('Reject ho two term related')\n",
        "else:\n",
        "  print('retain ho not related')"
      ],
      "metadata": {
        "colab": {
          "base_uri": "https://localhost:8080/"
        },
        "id": "-TnIsXQ0cR7v",
        "outputId": "93963389-f8cf-4cef-fd7a-9b7e556cb0e4"
      },
      "execution_count": 80,
      "outputs": [
        {
          "output_type": "stream",
          "name": "stdout",
          "text": [
            "retain ho not related\n"
          ]
        }
      ]
    },
    {
      "cell_type": "code",
      "source": [
        "dataset.corr()"
      ],
      "metadata": {
        "colab": {
          "base_uri": "https://localhost:8080/",
          "height": 198
        },
        "id": "31dGAvqrciIi",
        "outputId": "4a41a498-9e0a-4a6b-b38b-38b349b97f82"
      },
      "execution_count": 81,
      "outputs": [
        {
          "output_type": "stream",
          "name": "stderr",
          "text": [
            "<ipython-input-81-c187c74d1e71>:1: FutureWarning: The default value of numeric_only in DataFrame.corr is deprecated. In a future version, it will default to False. Select only valid columns or specify the value of numeric_only to silence this warning.\n",
            "  dataset.corr()\n"
          ]
        },
        {
          "output_type": "execute_result",
          "data": {
            "text/plain": [
              "            total_bill       tip      size\n",
              "total_bill    1.000000  0.675734  0.598315\n",
              "tip           0.675734  1.000000  0.489299\n",
              "size          0.598315  0.489299  1.000000"
            ],
            "text/html": [
              "\n",
              "  <div id=\"df-52d17aee-4d53-42ef-b689-715d368cc0a6\" class=\"colab-df-container\">\n",
              "    <div>\n",
              "<style scoped>\n",
              "    .dataframe tbody tr th:only-of-type {\n",
              "        vertical-align: middle;\n",
              "    }\n",
              "\n",
              "    .dataframe tbody tr th {\n",
              "        vertical-align: top;\n",
              "    }\n",
              "\n",
              "    .dataframe thead th {\n",
              "        text-align: right;\n",
              "    }\n",
              "</style>\n",
              "<table border=\"1\" class=\"dataframe\">\n",
              "  <thead>\n",
              "    <tr style=\"text-align: right;\">\n",
              "      <th></th>\n",
              "      <th>total_bill</th>\n",
              "      <th>tip</th>\n",
              "      <th>size</th>\n",
              "    </tr>\n",
              "  </thead>\n",
              "  <tbody>\n",
              "    <tr>\n",
              "      <th>total_bill</th>\n",
              "      <td>1.000000</td>\n",
              "      <td>0.675734</td>\n",
              "      <td>0.598315</td>\n",
              "    </tr>\n",
              "    <tr>\n",
              "      <th>tip</th>\n",
              "      <td>0.675734</td>\n",
              "      <td>1.000000</td>\n",
              "      <td>0.489299</td>\n",
              "    </tr>\n",
              "    <tr>\n",
              "      <th>size</th>\n",
              "      <td>0.598315</td>\n",
              "      <td>0.489299</td>\n",
              "      <td>1.000000</td>\n",
              "    </tr>\n",
              "  </tbody>\n",
              "</table>\n",
              "</div>\n",
              "    <div class=\"colab-df-buttons\">\n",
              "\n",
              "  <div class=\"colab-df-container\">\n",
              "    <button class=\"colab-df-convert\" onclick=\"convertToInteractive('df-52d17aee-4d53-42ef-b689-715d368cc0a6')\"\n",
              "            title=\"Convert this dataframe to an interactive table.\"\n",
              "            style=\"display:none;\">\n",
              "\n",
              "  <svg xmlns=\"http://www.w3.org/2000/svg\" height=\"24px\" viewBox=\"0 -960 960 960\">\n",
              "    <path d=\"M120-120v-720h720v720H120Zm60-500h600v-160H180v160Zm220 220h160v-160H400v160Zm0 220h160v-160H400v160ZM180-400h160v-160H180v160Zm440 0h160v-160H620v160ZM180-180h160v-160H180v160Zm440 0h160v-160H620v160Z\"/>\n",
              "  </svg>\n",
              "    </button>\n",
              "\n",
              "  <style>\n",
              "    .colab-df-container {\n",
              "      display:flex;\n",
              "      gap: 12px;\n",
              "    }\n",
              "\n",
              "    .colab-df-convert {\n",
              "      background-color: #E8F0FE;\n",
              "      border: none;\n",
              "      border-radius: 50%;\n",
              "      cursor: pointer;\n",
              "      display: none;\n",
              "      fill: #1967D2;\n",
              "      height: 32px;\n",
              "      padding: 0 0 0 0;\n",
              "      width: 32px;\n",
              "    }\n",
              "\n",
              "    .colab-df-convert:hover {\n",
              "      background-color: #E2EBFA;\n",
              "      box-shadow: 0px 1px 2px rgba(60, 64, 67, 0.3), 0px 1px 3px 1px rgba(60, 64, 67, 0.15);\n",
              "      fill: #174EA6;\n",
              "    }\n",
              "\n",
              "    .colab-df-buttons div {\n",
              "      margin-bottom: 4px;\n",
              "    }\n",
              "\n",
              "    [theme=dark] .colab-df-convert {\n",
              "      background-color: #3B4455;\n",
              "      fill: #D2E3FC;\n",
              "    }\n",
              "\n",
              "    [theme=dark] .colab-df-convert:hover {\n",
              "      background-color: #434B5C;\n",
              "      box-shadow: 0px 1px 3px 1px rgba(0, 0, 0, 0.15);\n",
              "      filter: drop-shadow(0px 1px 2px rgba(0, 0, 0, 0.3));\n",
              "      fill: #FFFFFF;\n",
              "    }\n",
              "  </style>\n",
              "\n",
              "    <script>\n",
              "      const buttonEl =\n",
              "        document.querySelector('#df-52d17aee-4d53-42ef-b689-715d368cc0a6 button.colab-df-convert');\n",
              "      buttonEl.style.display =\n",
              "        google.colab.kernel.accessAllowed ? 'block' : 'none';\n",
              "\n",
              "      async function convertToInteractive(key) {\n",
              "        const element = document.querySelector('#df-52d17aee-4d53-42ef-b689-715d368cc0a6');\n",
              "        const dataTable =\n",
              "          await google.colab.kernel.invokeFunction('convertToInteractive',\n",
              "                                                    [key], {});\n",
              "        if (!dataTable) return;\n",
              "\n",
              "        const docLinkHtml = 'Like what you see? Visit the ' +\n",
              "          '<a target=\"_blank\" href=https://colab.research.google.com/notebooks/data_table.ipynb>data table notebook</a>'\n",
              "          + ' to learn more about interactive tables.';\n",
              "        element.innerHTML = '';\n",
              "        dataTable['output_type'] = 'display_data';\n",
              "        await google.colab.output.renderOutput(dataTable, element);\n",
              "        const docLink = document.createElement('div');\n",
              "        docLink.innerHTML = docLinkHtml;\n",
              "        element.appendChild(docLink);\n",
              "      }\n",
              "    </script>\n",
              "  </div>\n",
              "\n",
              "\n",
              "<div id=\"df-89cce6c9-a510-4cd9-b673-db675a2d2a20\">\n",
              "  <button class=\"colab-df-quickchart\" onclick=\"quickchart('df-89cce6c9-a510-4cd9-b673-db675a2d2a20')\"\n",
              "            title=\"Suggest charts\"\n",
              "            style=\"display:none;\">\n",
              "\n",
              "<svg xmlns=\"http://www.w3.org/2000/svg\" height=\"24px\"viewBox=\"0 0 24 24\"\n",
              "     width=\"24px\">\n",
              "    <g>\n",
              "        <path d=\"M19 3H5c-1.1 0-2 .9-2 2v14c0 1.1.9 2 2 2h14c1.1 0 2-.9 2-2V5c0-1.1-.9-2-2-2zM9 17H7v-7h2v7zm4 0h-2V7h2v10zm4 0h-2v-4h2v4z\"/>\n",
              "    </g>\n",
              "</svg>\n",
              "  </button>\n",
              "\n",
              "<style>\n",
              "  .colab-df-quickchart {\n",
              "      --bg-color: #E8F0FE;\n",
              "      --fill-color: #1967D2;\n",
              "      --hover-bg-color: #E2EBFA;\n",
              "      --hover-fill-color: #174EA6;\n",
              "      --disabled-fill-color: #AAA;\n",
              "      --disabled-bg-color: #DDD;\n",
              "  }\n",
              "\n",
              "  [theme=dark] .colab-df-quickchart {\n",
              "      --bg-color: #3B4455;\n",
              "      --fill-color: #D2E3FC;\n",
              "      --hover-bg-color: #434B5C;\n",
              "      --hover-fill-color: #FFFFFF;\n",
              "      --disabled-bg-color: #3B4455;\n",
              "      --disabled-fill-color: #666;\n",
              "  }\n",
              "\n",
              "  .colab-df-quickchart {\n",
              "    background-color: var(--bg-color);\n",
              "    border: none;\n",
              "    border-radius: 50%;\n",
              "    cursor: pointer;\n",
              "    display: none;\n",
              "    fill: var(--fill-color);\n",
              "    height: 32px;\n",
              "    padding: 0;\n",
              "    width: 32px;\n",
              "  }\n",
              "\n",
              "  .colab-df-quickchart:hover {\n",
              "    background-color: var(--hover-bg-color);\n",
              "    box-shadow: 0 1px 2px rgba(60, 64, 67, 0.3), 0 1px 3px 1px rgba(60, 64, 67, 0.15);\n",
              "    fill: var(--button-hover-fill-color);\n",
              "  }\n",
              "\n",
              "  .colab-df-quickchart-complete:disabled,\n",
              "  .colab-df-quickchart-complete:disabled:hover {\n",
              "    background-color: var(--disabled-bg-color);\n",
              "    fill: var(--disabled-fill-color);\n",
              "    box-shadow: none;\n",
              "  }\n",
              "\n",
              "  .colab-df-spinner {\n",
              "    border: 2px solid var(--fill-color);\n",
              "    border-color: transparent;\n",
              "    border-bottom-color: var(--fill-color);\n",
              "    animation:\n",
              "      spin 1s steps(1) infinite;\n",
              "  }\n",
              "\n",
              "  @keyframes spin {\n",
              "    0% {\n",
              "      border-color: transparent;\n",
              "      border-bottom-color: var(--fill-color);\n",
              "      border-left-color: var(--fill-color);\n",
              "    }\n",
              "    20% {\n",
              "      border-color: transparent;\n",
              "      border-left-color: var(--fill-color);\n",
              "      border-top-color: var(--fill-color);\n",
              "    }\n",
              "    30% {\n",
              "      border-color: transparent;\n",
              "      border-left-color: var(--fill-color);\n",
              "      border-top-color: var(--fill-color);\n",
              "      border-right-color: var(--fill-color);\n",
              "    }\n",
              "    40% {\n",
              "      border-color: transparent;\n",
              "      border-right-color: var(--fill-color);\n",
              "      border-top-color: var(--fill-color);\n",
              "    }\n",
              "    60% {\n",
              "      border-color: transparent;\n",
              "      border-right-color: var(--fill-color);\n",
              "    }\n",
              "    80% {\n",
              "      border-color: transparent;\n",
              "      border-right-color: var(--fill-color);\n",
              "      border-bottom-color: var(--fill-color);\n",
              "    }\n",
              "    90% {\n",
              "      border-color: transparent;\n",
              "      border-bottom-color: var(--fill-color);\n",
              "    }\n",
              "  }\n",
              "</style>\n",
              "\n",
              "  <script>\n",
              "    async function quickchart(key) {\n",
              "      const quickchartButtonEl =\n",
              "        document.querySelector('#' + key + ' button');\n",
              "      quickchartButtonEl.disabled = true;  // To prevent multiple clicks.\n",
              "      quickchartButtonEl.classList.add('colab-df-spinner');\n",
              "      try {\n",
              "        const charts = await google.colab.kernel.invokeFunction(\n",
              "            'suggestCharts', [key], {});\n",
              "      } catch (error) {\n",
              "        console.error('Error during call to suggestCharts:', error);\n",
              "      }\n",
              "      quickchartButtonEl.classList.remove('colab-df-spinner');\n",
              "      quickchartButtonEl.classList.add('colab-df-quickchart-complete');\n",
              "    }\n",
              "    (() => {\n",
              "      let quickchartButtonEl =\n",
              "        document.querySelector('#df-89cce6c9-a510-4cd9-b673-db675a2d2a20 button');\n",
              "      quickchartButtonEl.style.display =\n",
              "        google.colab.kernel.accessAllowed ? 'block' : 'none';\n",
              "    })();\n",
              "  </script>\n",
              "</div>\n",
              "\n",
              "    </div>\n",
              "  </div>\n"
            ]
          },
          "metadata": {},
          "execution_count": 81
        }
      ]
    },
    {
      "cell_type": "code",
      "source": [
        "sns.pairplot(dataset)"
      ],
      "metadata": {
        "colab": {
          "base_uri": "https://localhost:8080/",
          "height": 775
        },
        "id": "uudoE7nSc1H5",
        "outputId": "fcb99e20-76ca-4a87-d04c-8dc9e5bad236"
      },
      "execution_count": 82,
      "outputs": [
        {
          "output_type": "execute_result",
          "data": {
            "text/plain": [
              "<seaborn.axisgrid.PairGrid at 0x78c03cd4d090>"
            ]
          },
          "metadata": {},
          "execution_count": 82
        },
        {
          "output_type": "display_data",
          "data": {
            "text/plain": [
              "<Figure size 750x750 with 12 Axes>"
            ],
            "image/png": "[encoded data removed]"
          },
          "metadata": {}
        }
      ]
    },
    {
      "cell_type": "markdown",
      "source": [
        "### ANOVA"
      ],
      "metadata": {
        "id": "BFz7Iu7Qed7j"
      }
    },
    {
      "cell_type": "code",
      "source": [
        "df1=sns.load_dataset('iris')\n",
        "df1"
      ],
      "metadata": {
        "colab": {
          "base_uri": "https://localhost:8080/",
          "height": 423
        },
        "id": "42WEzLeXd7Vx",
        "outputId": "7994bad9-7790-49c3-a5da-534836ab3819"
      },
      "execution_count": 83,
      "outputs": [
        {
          "output_type": "execute_result",
          "data": {
            "text/plain": [
              "     sepal_length  sepal_width  petal_length  petal_width    species\n",
              "0             5.1          3.5           1.4          0.2     setosa\n",
              "1             4.9          3.0           1.4          0.2     setosa\n",
              "2             4.7          3.2           1.3          0.2     setosa\n",
              "3             4.6          3.1           1.5          0.2     setosa\n",
              "4             5.0          3.6           1.4          0.2     setosa\n",
              "..            ...          ...           ...          ...        ...\n",
              "145           6.7          3.0           5.2          2.3  virginica\n",
              "146           6.3          2.5           5.0          1.9  virginica\n",
              "147           6.5          3.0           5.2          2.0  virginica\n",
              "148           6.2          3.4           5.4          2.3  virginica\n",
              "149           5.9          3.0           5.1          1.8  virginica\n",
              "\n",
              "[150 rows x 5 columns]"
            ],
            "text/html": [
              "\n",
              "  <div id=\"df-0d5fd74e-6a3f-4005-858f-39fcd3a57854\" class=\"colab-df-container\">\n",
              "    <div>\n",
              "<style scoped>\n",
              "    .dataframe tbody tr th:only-of-type {\n",
              "        vertical-align: middle;\n",
              "    }\n",
              "\n",
              "    .dataframe tbody tr th {\n",
              "        vertical-align: top;\n",
              "    }\n",
              "\n",
              "    .dataframe thead th {\n",
              "        text-align: right;\n",
              "    }\n",
              "</style>\n",
              "<table border=\"1\" class=\"dataframe\">\n",
              "  <thead>\n",
              "    <tr style=\"text-align: right;\">\n",
              "      <th></th>\n",
              "      <th>sepal_length</th>\n",
              "      <th>sepal_width</th>\n",
              "      <th>petal_length</th>\n",
              "      <th>petal_width</th>\n",
              "      <th>species</th>\n",
              "    </tr>\n",
              "  </thead>\n",
              "  <tbody>\n",
              "    <tr>\n",
              "      <th>0</th>\n",
              "      <td>5.1</td>\n",
              "      <td>3.5</td>\n",
              "      <td>1.4</td>\n",
              "      <td>0.2</td>\n",
              "      <td>setosa</td>\n",
              "    </tr>\n",
              "    <tr>\n",
              "      <th>1</th>\n",
              "      <td>4.9</td>\n",
              "      <td>3.0</td>\n",
              "      <td>1.4</td>\n",
              "      <td>0.2</td>\n",
              "      <td>setosa</td>\n",
              "    </tr>\n",
              "    <tr>\n",
              "      <th>2</th>\n",
              "      <td>4.7</td>\n",
              "      <td>3.2</td>\n",
              "      <td>1.3</td>\n",
              "      <td>0.2</td>\n",
              "      <td>setosa</td>\n",
              "    </tr>\n",
              "    <tr>\n",
              "      <th>3</th>\n",
              "      <td>4.6</td>\n",
              "      <td>3.1</td>\n",
              "      <td>1.5</td>\n",
              "      <td>0.2</td>\n",
              "      <td>setosa</td>\n",
              "    </tr>\n",
              "    <tr>\n",
              "      <th>4</th>\n",
              "      <td>5.0</td>\n",
              "      <td>3.6</td>\n",
              "      <td>1.4</td>\n",
              "      <td>0.2</td>\n",
              "      <td>setosa</td>\n",
              "    </tr>\n",
              "    <tr>\n",
              "      <th>...</th>\n",
              "      <td>...</td>\n",
              "      <td>...</td>\n",
              "      <td>...</td>\n",
              "      <td>...</td>\n",
              "      <td>...</td>\n",
              "    </tr>\n",
              "    <tr>\n",
              "      <th>145</th>\n",
              "      <td>6.7</td>\n",
              "      <td>3.0</td>\n",
              "      <td>5.2</td>\n",
              "      <td>2.3</td>\n",
              "      <td>virginica</td>\n",
              "    </tr>\n",
              "    <tr>\n",
              "      <th>146</th>\n",
              "      <td>6.3</td>\n",
              "      <td>2.5</td>\n",
              "      <td>5.0</td>\n",
              "      <td>1.9</td>\n",
              "      <td>virginica</td>\n",
              "    </tr>\n",
              "    <tr>\n",
              "      <th>147</th>\n",
              "      <td>6.5</td>\n",
              "      <td>3.0</td>\n",
              "      <td>5.2</td>\n",
              "      <td>2.0</td>\n",
              "      <td>virginica</td>\n",
              "    </tr>\n",
              "    <tr>\n",
              "      <th>148</th>\n",
              "      <td>6.2</td>\n",
              "      <td>3.4</td>\n",
              "      <td>5.4</td>\n",
              "      <td>2.3</td>\n",
              "      <td>virginica</td>\n",
              "    </tr>\n",
              "    <tr>\n",
              "      <th>149</th>\n",
              "      <td>5.9</td>\n",
              "      <td>3.0</td>\n",
              "      <td>5.1</td>\n",
              "      <td>1.8</td>\n",
              "      <td>virginica</td>\n",
              "    </tr>\n",
              "  </tbody>\n",
              "</table>\n",
              "<p>150 rows × 5 columns</p>\n",
              "</div>\n",
              "    <div class=\"colab-df-buttons\">\n",
              "\n",
              "  <div class=\"colab-df-container\">\n",
              "    <button class=\"colab-df-convert\" onclick=\"convertToInteractive('df-0d5fd74e-6a3f-4005-858f-39fcd3a57854')\"\n",
              "            title=\"Convert this dataframe to an interactive table.\"\n",
              "            style=\"display:none;\">\n",
              "\n",
              "  <svg xmlns=\"http://www.w3.org/2000/svg\" height=\"24px\" viewBox=\"0 -960 960 960\">\n",
              "    <path d=\"M120-120v-720h720v720H120Zm60-500h600v-160H180v160Zm220 220h160v-160H400v160Zm0 220h160v-160H400v160ZM180-400h160v-160H180v160Zm440 0h160v-160H620v160ZM180-180h160v-160H180v160Zm440 0h160v-160H620v160Z\"/>\n",
              "  </svg>\n",
              "    </button>\n",
              "\n",
              "  <style>\n",
              "    .colab-df-container {\n",
              "      display:flex;\n",
              "      gap: 12px;\n",
              "    }\n",
              "\n",
              "    .colab-df-convert {\n",
              "      background-color: #E8F0FE;\n",
              "      border: none;\n",
              "      border-radius: 50%;\n",
              "      cursor: pointer;\n",
              "      display: none;\n",
              "      fill: #1967D2;\n",
              "      height: 32px;\n",
              "      padding: 0 0 0 0;\n",
              "      width: 32px;\n",
              "    }\n",
              "\n",
              "    .colab-df-convert:hover {\n",
              "      background-color: #E2EBFA;\n",
              "      box-shadow: 0px 1px 2px rgba(60, 64, 67, 0.3), 0px 1px 3px 1px rgba(60, 64, 67, 0.15);\n",
              "      fill: #174EA6;\n",
              "    }\n",
              "\n",
              "    .colab-df-buttons div {\n",
              "      margin-bottom: 4px;\n",
              "    }\n",
              "\n",
              "    [theme=dark] .colab-df-convert {\n",
              "      background-color: #3B4455;\n",
              "      fill: #D2E3FC;\n",
              "    }\n",
              "\n",
              "    [theme=dark] .colab-df-convert:hover {\n",
              "      background-color: #434B5C;\n",
              "      box-shadow: 0px 1px 3px 1px rgba(0, 0, 0, 0.15);\n",
              "      filter: drop-shadow(0px 1px 2px rgba(0, 0, 0, 0.3));\n",
              "      fill: #FFFFFF;\n",
              "    }\n",
              "  </style>\n",
              "\n",
              "    <script>\n",
              "      const buttonEl =\n",
              "        document.querySelector('#df-0d5fd74e-6a3f-4005-858f-39fcd3a57854 button.colab-df-convert');\n",
              "      buttonEl.style.display =\n",
              "        google.colab.kernel.accessAllowed ? 'block' : 'none';\n",
              "\n",
              "      async function convertToInteractive(key) {\n",
              "        const element = document.querySelector('#df-0d5fd74e-6a3f-4005-858f-39fcd3a57854');\n",
              "        const dataTable =\n",
              "          await google.colab.kernel.invokeFunction('convertToInteractive',\n",
              "                                                    [key], {});\n",
              "        if (!dataTable) return;\n",
              "\n",
              "        const docLinkHtml = 'Like what you see? Visit the ' +\n",
              "          '<a target=\"_blank\" href=https://colab.research.google.com/notebooks/data_table.ipynb>data table notebook</a>'\n",
              "          + ' to learn more about interactive tables.';\n",
              "        element.innerHTML = '';\n",
              "        dataTable['output_type'] = 'display_data';\n",
              "        await google.colab.output.renderOutput(dataTable, element);\n",
              "        const docLink = document.createElement('div');\n",
              "        docLink.innerHTML = docLinkHtml;\n",
              "        element.appendChild(docLink);\n",
              "      }\n",
              "    </script>\n",
              "  </div>\n",
              "\n",
              "\n",
              "<div id=\"df-33064df6-dc9c-44f3-a81c-de470c03616a\">\n",
              "  <button class=\"colab-df-quickchart\" onclick=\"quickchart('df-33064df6-dc9c-44f3-a81c-de470c03616a')\"\n",
              "            title=\"Suggest charts\"\n",
              "            style=\"display:none;\">\n",
              "\n",
              "<svg xmlns=\"http://www.w3.org/2000/svg\" height=\"24px\"viewBox=\"0 0 24 24\"\n",
              "     width=\"24px\">\n",
              "    <g>\n",
              "        <path d=\"M19 3H5c-1.1 0-2 .9-2 2v14c0 1.1.9 2 2 2h14c1.1 0 2-.9 2-2V5c0-1.1-.9-2-2-2zM9 17H7v-7h2v7zm4 0h-2V7h2v10zm4 0h-2v-4h2v4z\"/>\n",
              "    </g>\n",
              "</svg>\n",
              "  </button>\n",
              "\n",
              "<style>\n",
              "  .colab-df-quickchart {\n",
              "      --bg-color: #E8F0FE;\n",
              "      --fill-color: #1967D2;\n",
              "      --hover-bg-color: #E2EBFA;\n",
              "      --hover-fill-color: #174EA6;\n",
              "      --disabled-fill-color: #AAA;\n",
              "      --disabled-bg-color: #DDD;\n",
              "  }\n",
              "\n",
              "  [theme=dark] .colab-df-quickchart {\n",
              "      --bg-color: #3B4455;\n",
              "      --fill-color: #D2E3FC;\n",
              "      --hover-bg-color: #434B5C;\n",
              "      --hover-fill-color: #FFFFFF;\n",
              "      --disabled-bg-color: #3B4455;\n",
              "      --disabled-fill-color: #666;\n",
              "  }\n",
              "\n",
              "  .colab-df-quickchart {\n",
              "    background-color: var(--bg-color);\n",
              "    border: none;\n",
              "    border-radius: 50%;\n",
              "    cursor: pointer;\n",
              "    display: none;\n",
              "    fill: var(--fill-color);\n",
              "    height: 32px;\n",
              "    padding: 0;\n",
              "    width: 32px;\n",
              "  }\n",
              "\n",
              "  .colab-df-quickchart:hover {\n",
              "    background-color: var(--hover-bg-color);\n",
              "    box-shadow: 0 1px 2px rgba(60, 64, 67, 0.3), 0 1px 3px 1px rgba(60, 64, 67, 0.15);\n",
              "    fill: var(--button-hover-fill-color);\n",
              "  }\n",
              "\n",
              "  .colab-df-quickchart-complete:disabled,\n",
              "  .colab-df-quickchart-complete:disabled:hover {\n",
              "    background-color: var(--disabled-bg-color);\n",
              "    fill: var(--disabled-fill-color);\n",
              "    box-shadow: none;\n",
              "  }\n",
              "\n",
              "  .colab-df-spinner {\n",
              "    border: 2px solid var(--fill-color);\n",
              "    border-color: transparent;\n",
              "    border-bottom-color: var(--fill-color);\n",
              "    animation:\n",
              "      spin 1s steps(1) infinite;\n",
              "  }\n",
              "\n",
              "  @keyframes spin {\n",
              "    0% {\n",
              "      border-color: transparent;\n",
              "      border-bottom-color: var(--fill-color);\n",
              "      border-left-color: var(--fill-color);\n",
              "    }\n",
              "    20% {\n",
              "      border-color: transparent;\n",
              "      border-left-color: var(--fill-color);\n",
              "      border-top-color: var(--fill-color);\n",
              "    }\n",
              "    30% {\n",
              "      border-color: transparent;\n",
              "      border-left-color: var(--fill-color);\n",
              "      border-top-color: var(--fill-color);\n",
              "      border-right-color: var(--fill-color);\n",
              "    }\n",
              "    40% {\n",
              "      border-color: transparent;\n",
              "      border-right-color: var(--fill-color);\n",
              "      border-top-color: var(--fill-color);\n",
              "    }\n",
              "    60% {\n",
              "      border-color: transparent;\n",
              "      border-right-color: var(--fill-color);\n",
              "    }\n",
              "    80% {\n",
              "      border-color: transparent;\n",
              "      border-right-color: var(--fill-color);\n",
              "      border-bottom-color: var(--fill-color);\n",
              "    }\n",
              "    90% {\n",
              "      border-color: transparent;\n",
              "      border-bottom-color: var(--fill-color);\n",
              "    }\n",
              "  }\n",
              "</style>\n",
              "\n",
              "  <script>\n",
              "    async function quickchart(key) {\n",
              "      const quickchartButtonEl =\n",
              "        document.querySelector('#' + key + ' button');\n",
              "      quickchartButtonEl.disabled = true;  // To prevent multiple clicks.\n",
              "      quickchartButtonEl.classList.add('colab-df-spinner');\n",
              "      try {\n",
              "        const charts = await google.colab.kernel.invokeFunction(\n",
              "            'suggestCharts', [key], {});\n",
              "      } catch (error) {\n",
              "        console.error('Error during call to suggestCharts:', error);\n",
              "      }\n",
              "      quickchartButtonEl.classList.remove('colab-df-spinner');\n",
              "      quickchartButtonEl.classList.add('colab-df-quickchart-complete');\n",
              "    }\n",
              "    (() => {\n",
              "      let quickchartButtonEl =\n",
              "        document.querySelector('#df-33064df6-dc9c-44f3-a81c-de470c03616a button');\n",
              "      quickchartButtonEl.style.display =\n",
              "        google.colab.kernel.accessAllowed ? 'block' : 'none';\n",
              "    })();\n",
              "  </script>\n",
              "</div>\n",
              "\n",
              "  <div id=\"id_6348ab83-cdb3-4cb7-9165-ef25f9aecee1\">\n",
              "    <style>\n",
              "      .colab-df-generate {\n",
              "        background-color: #E8F0FE;\n",
              "        border: none;\n",
              "        border-radius: 50%;\n",
              "        cursor: pointer;\n",
              "        display: none;\n",
              "        fill: #1967D2;\n",
              "        height: 32px;\n",
              "        padding: 0 0 0 0;\n",
              "        width: 32px;\n",
              "      }\n",
              "\n",
              "      .colab-df-generate:hover {\n",
              "        background-color: #E2EBFA;\n",
              "        box-shadow: 0px 1px 2px rgba(60, 64, 67, 0.3), 0px 1px 3px 1px rgba(60, 64, 67, 0.15);\n",
              "        fill: #174EA6;\n",
              "      }\n",
              "\n",
              "      [theme=dark] .colab-df-generate {\n",
              "        background-color: #3B4455;\n",
              "        fill: #D2E3FC;\n",
              "      }\n",
              "\n",
              "      [theme=dark] .colab-df-generate:hover {\n",
              "        background-color: #434B5C;\n",
              "        box-shadow: 0px 1px 3px 1px rgba(0, 0, 0, 0.15);\n",
              "        filter: drop-shadow(0px 1px 2px rgba(0, 0, 0, 0.3));\n",
              "        fill: #FFFFFF;\n",
              "      }\n",
              "    </style>\n",
              "    <button class=\"colab-df-generate\" onclick=\"generateWithVariable('df1')\"\n",
              "            title=\"Generate code using this dataframe.\"\n",
              "            style=\"display:none;\">\n",
              "\n",
              "  <svg xmlns=\"http://www.w3.org/2000/svg\" height=\"24px\"viewBox=\"0 0 24 24\"\n",
              "       width=\"24px\">\n",
              "    <path d=\"M7,19H8.4L18.45,9,17,7.55,7,17.6ZM5,21V16.75L18.45,3.32a2,2,0,0,1,2.83,0l1.4,1.43a1.91,1.91,0,0,1,.58,1.4,1.91,1.91,0,0,1-.58,1.4L9.25,21ZM18.45,9,17,7.55Zm-12,3A5.31,5.31,0,0,0,4.9,8.1,5.31,5.31,0,0,0,1,6.5,5.31,5.31,0,0,0,4.9,4.9,5.31,5.31,0,0,0,6.5,1,5.31,5.31,0,0,0,8.1,4.9,5.31,5.31,0,0,0,12,6.5,5.46,5.46,0,0,0,6.5,12Z\"/>\n",
              "  </svg>\n",
              "    </button>\n",
              "    <script>\n",
              "      (() => {\n",
              "      const buttonEl =\n",
              "        document.querySelector('#id_6348ab83-cdb3-4cb7-9165-ef25f9aecee1 button.colab-df-generate');\n",
              "      buttonEl.style.display =\n",
              "        google.colab.kernel.accessAllowed ? 'block' : 'none';\n",
              "\n",
              "      buttonEl.onclick = () => {\n",
              "        google.colab.notebook.generateWithVariable('df1');\n",
              "      }\n",
              "      })();\n",
              "    </script>\n",
              "  </div>\n",
              "\n",
              "    </div>\n",
              "  </div>\n"
            ]
          },
          "metadata": {},
          "execution_count": 83
        }
      ]
    },
    {
      "cell_type": "code",
      "source": [
        "df_anova=df1[['petal_width','species']]\n",
        "df_anova"
      ],
      "metadata": {
        "colab": {
          "base_uri": "https://localhost:8080/",
          "height": 423
        },
        "id": "3j8sXi4KeH5s",
        "outputId": "376c5675-0e73-420f-dd97-a4390d359864"
      },
      "execution_count": 84,
      "outputs": [
        {
          "output_type": "execute_result",
          "data": {
            "text/plain": [
              "     petal_width    species\n",
              "0            0.2     setosa\n",
              "1            0.2     setosa\n",
              "2            0.2     setosa\n",
              "3            0.2     setosa\n",
              "4            0.2     setosa\n",
              "..           ...        ...\n",
              "145          2.3  virginica\n",
              "146          1.9  virginica\n",
              "147          2.0  virginica\n",
              "148          2.3  virginica\n",
              "149          1.8  virginica\n",
              "\n",
              "[150 rows x 2 columns]"
            ],
            "text/html": [
              "\n",
              "  <div id=\"df-5287f6f5-7143-4027-8054-98901e2b9b68\" class=\"colab-df-container\">\n",
              "    <div>\n",
              "<style scoped>\n",
              "    .dataframe tbody tr th:only-of-type {\n",
              "        vertical-align: middle;\n",
              "    }\n",
              "\n",
              "    .dataframe tbody tr th {\n",
              "        vertical-align: top;\n",
              "    }\n",
              "\n",
              "    .dataframe thead th {\n",
              "        text-align: right;\n",
              "    }\n",
              "</style>\n",
              "<table border=\"1\" class=\"dataframe\">\n",
              "  <thead>\n",
              "    <tr style=\"text-align: right;\">\n",
              "      <th></th>\n",
              "      <th>petal_width</th>\n",
              "      <th>species</th>\n",
              "    </tr>\n",
              "  </thead>\n",
              "  <tbody>\n",
              "    <tr>\n",
              "      <th>0</th>\n",
              "      <td>0.2</td>\n",
              "      <td>setosa</td>\n",
              "    </tr>\n",
              "    <tr>\n",
              "      <th>1</th>\n",
              "      <td>0.2</td>\n",
              "      <td>setosa</td>\n",
              "    </tr>\n",
              "    <tr>\n",
              "      <th>2</th>\n",
              "      <td>0.2</td>\n",
              "      <td>setosa</td>\n",
              "    </tr>\n",
              "    <tr>\n",
              "      <th>3</th>\n",
              "      <td>0.2</td>\n",
              "      <td>setosa</td>\n",
              "    </tr>\n",
              "    <tr>\n",
              "      <th>4</th>\n",
              "      <td>0.2</td>\n",
              "      <td>setosa</td>\n",
              "    </tr>\n",
              "    <tr>\n",
              "      <th>...</th>\n",
              "      <td>...</td>\n",
              "      <td>...</td>\n",
              "    </tr>\n",
              "    <tr>\n",
              "      <th>145</th>\n",
              "      <td>2.3</td>\n",
              "      <td>virginica</td>\n",
              "    </tr>\n",
              "    <tr>\n",
              "      <th>146</th>\n",
              "      <td>1.9</td>\n",
              "      <td>virginica</td>\n",
              "    </tr>\n",
              "    <tr>\n",
              "      <th>147</th>\n",
              "      <td>2.0</td>\n",
              "      <td>virginica</td>\n",
              "    </tr>\n",
              "    <tr>\n",
              "      <th>148</th>\n",
              "      <td>2.3</td>\n",
              "      <td>virginica</td>\n",
              "    </tr>\n",
              "    <tr>\n",
              "      <th>149</th>\n",
              "      <td>1.8</td>\n",
              "      <td>virginica</td>\n",
              "    </tr>\n",
              "  </tbody>\n",
              "</table>\n",
              "<p>150 rows × 2 columns</p>\n",
              "</div>\n",
              "    <div class=\"colab-df-buttons\">\n",
              "\n",
              "  <div class=\"colab-df-container\">\n",
              "    <button class=\"colab-df-convert\" onclick=\"convertToInteractive('df-5287f6f5-7143-4027-8054-98901e2b9b68')\"\n",
              "            title=\"Convert this dataframe to an interactive table.\"\n",
              "            style=\"display:none;\">\n",
              "\n",
              "  <svg xmlns=\"http://www.w3.org/2000/svg\" height=\"24px\" viewBox=\"0 -960 960 960\">\n",
              "    <path d=\"M120-120v-720h720v720H120Zm60-500h600v-160H180v160Zm220 220h160v-160H400v160Zm0 220h160v-160H400v160ZM180-400h160v-160H180v160Zm440 0h160v-160H620v160ZM180-180h160v-160H180v160Zm440 0h160v-160H620v160Z\"/>\n",
              "  </svg>\n",
              "    </button>\n",
              "\n",
              "  <style>\n",
              "    .colab-df-container {\n",
              "      display:flex;\n",
              "      gap: 12px;\n",
              "    }\n",
              "\n",
              "    .colab-df-convert {\n",
              "      background-color: #E8F0FE;\n",
              "      border: none;\n",
              "      border-radius: 50%;\n",
              "      cursor: pointer;\n",
              "      display: none;\n",
              "      fill: #1967D2;\n",
              "      height: 32px;\n",
              "      padding: 0 0 0 0;\n",
              "      width: 32px;\n",
              "    }\n",
              "\n",
              "    .colab-df-convert:hover {\n",
              "      background-color: #E2EBFA;\n",
              "      box-shadow: 0px 1px 2px rgba(60, 64, 67, 0.3), 0px 1px 3px 1px rgba(60, 64, 67, 0.15);\n",
              "      fill: #174EA6;\n",
              "    }\n",
              "\n",
              "    .colab-df-buttons div {\n",
              "      margin-bottom: 4px;\n",
              "    }\n",
              "\n",
              "    [theme=dark] .colab-df-convert {\n",
              "      background-color: #3B4455;\n",
              "      fill: #D2E3FC;\n",
              "    }\n",
              "\n",
              "    [theme=dark] .colab-df-convert:hover {\n",
              "      background-color: #434B5C;\n",
              "      box-shadow: 0px 1px 3px 1px rgba(0, 0, 0, 0.15);\n",
              "      filter: drop-shadow(0px 1px 2px rgba(0, 0, 0, 0.3));\n",
              "      fill: #FFFFFF;\n",
              "    }\n",
              "  </style>\n",
              "\n",
              "    <script>\n",
              "      const buttonEl =\n",
              "        document.querySelector('#df-5287f6f5-7143-4027-8054-98901e2b9b68 button.colab-df-convert');\n",
              "      buttonEl.style.display =\n",
              "        google.colab.kernel.accessAllowed ? 'block' : 'none';\n",
              "\n",
              "      async function convertToInteractive(key) {\n",
              "        const element = document.querySelector('#df-5287f6f5-7143-4027-8054-98901e2b9b68');\n",
              "        const dataTable =\n",
              "          await google.colab.kernel.invokeFunction('convertToInteractive',\n",
              "                                                    [key], {});\n",
              "        if (!dataTable) return;\n",
              "\n",
              "        const docLinkHtml = 'Like what you see? Visit the ' +\n",
              "          '<a target=\"_blank\" href=https://colab.research.google.com/notebooks/data_table.ipynb>data table notebook</a>'\n",
              "          + ' to learn more about interactive tables.';\n",
              "        element.innerHTML = '';\n",
              "        dataTable['output_type'] = 'display_data';\n",
              "        await google.colab.output.renderOutput(dataTable, element);\n",
              "        const docLink = document.createElement('div');\n",
              "        docLink.innerHTML = docLinkHtml;\n",
              "        element.appendChild(docLink);\n",
              "      }\n",
              "    </script>\n",
              "  </div>\n",
              "\n",
              "\n",
              "<div id=\"df-47d38305-faa8-42d9-b9c8-907dec2b507d\">\n",
              "  <button class=\"colab-df-quickchart\" onclick=\"quickchart('df-47d38305-faa8-42d9-b9c8-907dec2b507d')\"\n",
              "            title=\"Suggest charts\"\n",
              "            style=\"display:none;\">\n",
              "\n",
              "<svg xmlns=\"http://www.w3.org/2000/svg\" height=\"24px\"viewBox=\"0 0 24 24\"\n",
              "     width=\"24px\">\n",
              "    <g>\n",
              "        <path d=\"M19 3H5c-1.1 0-2 .9-2 2v14c0 1.1.9 2 2 2h14c1.1 0 2-.9 2-2V5c0-1.1-.9-2-2-2zM9 17H7v-7h2v7zm4 0h-2V7h2v10zm4 0h-2v-4h2v4z\"/>\n",
              "    </g>\n",
              "</svg>\n",
              "  </button>\n",
              "\n",
              "<style>\n",
              "  .colab-df-quickchart {\n",
              "      --bg-color: #E8F0FE;\n",
              "      --fill-color: #1967D2;\n",
              "      --hover-bg-color: #E2EBFA;\n",
              "      --hover-fill-color: #174EA6;\n",
              "      --disabled-fill-color: #AAA;\n",
              "      --disabled-bg-color: #DDD;\n",
              "  }\n",
              "\n",
              "  [theme=dark] .colab-df-quickchart {\n",
              "      --bg-color: #3B4455;\n",
              "      --fill-color: #D2E3FC;\n",
              "      --hover-bg-color: #434B5C;\n",
              "      --hover-fill-color: #FFFFFF;\n",
              "      --disabled-bg-color: #3B4455;\n",
              "      --disabled-fill-color: #666;\n",
              "  }\n",
              "\n",
              "  .colab-df-quickchart {\n",
              "    background-color: var(--bg-color);\n",
              "    border: none;\n",
              "    border-radius: 50%;\n",
              "    cursor: pointer;\n",
              "    display: none;\n",
              "    fill: var(--fill-color);\n",
              "    height: 32px;\n",
              "    padding: 0;\n",
              "    width: 32px;\n",
              "  }\n",
              "\n",
              "  .colab-df-quickchart:hover {\n",
              "    background-color: var(--hover-bg-color);\n",
              "    box-shadow: 0 1px 2px rgba(60, 64, 67, 0.3), 0 1px 3px 1px rgba(60, 64, 67, 0.15);\n",
              "    fill: var(--button-hover-fill-color);\n",
              "  }\n",
              "\n",
              "  .colab-df-quickchart-complete:disabled,\n",
              "  .colab-df-quickchart-complete:disabled:hover {\n",
              "    background-color: var(--disabled-bg-color);\n",
              "    fill: var(--disabled-fill-color);\n",
              "    box-shadow: none;\n",
              "  }\n",
              "\n",
              "  .colab-df-spinner {\n",
              "    border: 2px solid var(--fill-color);\n",
              "    border-color: transparent;\n",
              "    border-bottom-color: var(--fill-color);\n",
              "    animation:\n",
              "      spin 1s steps(1) infinite;\n",
              "  }\n",
              "\n",
              "  @keyframes spin {\n",
              "    0% {\n",
              "      border-color: transparent;\n",
              "      border-bottom-color: var(--fill-color);\n",
              "      border-left-color: var(--fill-color);\n",
              "    }\n",
              "    20% {\n",
              "      border-color: transparent;\n",
              "      border-left-color: var(--fill-color);\n",
              "      border-top-color: var(--fill-color);\n",
              "    }\n",
              "    30% {\n",
              "      border-color: transparent;\n",
              "      border-left-color: var(--fill-color);\n",
              "      border-top-color: var(--fill-color);\n",
              "      border-right-color: var(--fill-color);\n",
              "    }\n",
              "    40% {\n",
              "      border-color: transparent;\n",
              "      border-right-color: var(--fill-color);\n",
              "      border-top-color: var(--fill-color);\n",
              "    }\n",
              "    60% {\n",
              "      border-color: transparent;\n",
              "      border-right-color: var(--fill-color);\n",
              "    }\n",
              "    80% {\n",
              "      border-color: transparent;\n",
              "      border-right-color: var(--fill-color);\n",
              "      border-bottom-color: var(--fill-color);\n",
              "    }\n",
              "    90% {\n",
              "      border-color: transparent;\n",
              "      border-bottom-color: var(--fill-color);\n",
              "    }\n",
              "  }\n",
              "</style>\n",
              "\n",
              "  <script>\n",
              "    async function quickchart(key) {\n",
              "      const quickchartButtonEl =\n",
              "        document.querySelector('#' + key + ' button');\n",
              "      quickchartButtonEl.disabled = true;  // To prevent multiple clicks.\n",
              "      quickchartButtonEl.classList.add('colab-df-spinner');\n",
              "      try {\n",
              "        const charts = await google.colab.kernel.invokeFunction(\n",
              "            'suggestCharts', [key], {});\n",
              "      } catch (error) {\n",
              "        console.error('Error during call to suggestCharts:', error);\n",
              "      }\n",
              "      quickchartButtonEl.classList.remove('colab-df-spinner');\n",
              "      quickchartButtonEl.classList.add('colab-df-quickchart-complete');\n",
              "    }\n",
              "    (() => {\n",
              "      let quickchartButtonEl =\n",
              "        document.querySelector('#df-47d38305-faa8-42d9-b9c8-907dec2b507d button');\n",
              "      quickchartButtonEl.style.display =\n",
              "        google.colab.kernel.accessAllowed ? 'block' : 'none';\n",
              "    })();\n",
              "  </script>\n",
              "</div>\n",
              "\n",
              "  <div id=\"id_9c177ce1-66f3-41ea-8943-2bec372c5444\">\n",
              "    <style>\n",
              "      .colab-df-generate {\n",
              "        background-color: #E8F0FE;\n",
              "        border: none;\n",
              "        border-radius: 50%;\n",
              "        cursor: pointer;\n",
              "        display: none;\n",
              "        fill: #1967D2;\n",
              "        height: 32px;\n",
              "        padding: 0 0 0 0;\n",
              "        width: 32px;\n",
              "      }\n",
              "\n",
              "      .colab-df-generate:hover {\n",
              "        background-color: #E2EBFA;\n",
              "        box-shadow: 0px 1px 2px rgba(60, 64, 67, 0.3), 0px 1px 3px 1px rgba(60, 64, 67, 0.15);\n",
              "        fill: #174EA6;\n",
              "      }\n",
              "\n",
              "      [theme=dark] .colab-df-generate {\n",
              "        background-color: #3B4455;\n",
              "        fill: #D2E3FC;\n",
              "      }\n",
              "\n",
              "      [theme=dark] .colab-df-generate:hover {\n",
              "        background-color: #434B5C;\n",
              "        box-shadow: 0px 1px 3px 1px rgba(0, 0, 0, 0.15);\n",
              "        filter: drop-shadow(0px 1px 2px rgba(0, 0, 0, 0.3));\n",
              "        fill: #FFFFFF;\n",
              "      }\n",
              "    </style>\n",
              "    <button class=\"colab-df-generate\" onclick=\"generateWithVariable('df_anova')\"\n",
              "            title=\"Generate code using this dataframe.\"\n",
              "            style=\"display:none;\">\n",
              "\n",
              "  <svg xmlns=\"http://www.w3.org/2000/svg\" height=\"24px\"viewBox=\"0 0 24 24\"\n",
              "       width=\"24px\">\n",
              "    <path d=\"M7,19H8.4L18.45,9,17,7.55,7,17.6ZM5,21V16.75L18.45,3.32a2,2,0,0,1,2.83,0l1.4,1.43a1.91,1.91,0,0,1,.58,1.4,1.91,1.91,0,0,1-.58,1.4L9.25,21ZM18.45,9,17,7.55Zm-12,3A5.31,5.31,0,0,0,4.9,8.1,5.31,5.31,0,0,0,1,6.5,5.31,5.31,0,0,0,4.9,4.9,5.31,5.31,0,0,0,6.5,1,5.31,5.31,0,0,0,8.1,4.9,5.31,5.31,0,0,0,12,6.5,5.46,5.46,0,0,0,6.5,12Z\"/>\n",
              "  </svg>\n",
              "    </button>\n",
              "    <script>\n",
              "      (() => {\n",
              "      const buttonEl =\n",
              "        document.querySelector('#id_9c177ce1-66f3-41ea-8943-2bec372c5444 button.colab-df-generate');\n",
              "      buttonEl.style.display =\n",
              "        google.colab.kernel.accessAllowed ? 'block' : 'none';\n",
              "\n",
              "      buttonEl.onclick = () => {\n",
              "        google.colab.notebook.generateWithVariable('df_anova');\n",
              "      }\n",
              "      })();\n",
              "    </script>\n",
              "  </div>\n",
              "\n",
              "    </div>\n",
              "  </div>\n"
            ]
          },
          "metadata": {},
          "execution_count": 84
        }
      ]
    },
    {
      "cell_type": "code",
      "source": [
        "grps=pd.unique(df_anova.species.values)\n",
        "grps"
      ],
      "metadata": {
        "colab": {
          "base_uri": "https://localhost:8080/"
        },
        "id": "OCs4MgSweiQH",
        "outputId": "831115d3-73cd-4ffb-90c5-69e3bcd49ddd"
      },
      "execution_count": 85,
      "outputs": [
        {
          "output_type": "execute_result",
          "data": {
            "text/plain": [
              "array(['setosa', 'versicolor', 'virginica'], dtype=object)"
            ]
          },
          "metadata": {},
          "execution_count": 85
        }
      ]
    },
    {
      "cell_type": "code",
      "source": [
        "d_data = {grp:df_anova['petal_width'][df_anova.species == grp] for grp in grps}\n",
        "d_data"
      ],
      "metadata": {
        "colab": {
          "base_uri": "https://localhost:8080/"
        },
        "id": "CDSxL14_ewAt",
        "outputId": "904b8b46-506d-4f99-f60b-7d088c713e92"
      },
      "execution_count": 87,
      "outputs": [
        {
          "output_type": "execute_result",
          "data": {
            "text/plain": [
              "{'setosa': 0     0.2\n",
              " 1     0.2\n",
              " 2     0.2\n",
              " 3     0.2\n",
              " 4     0.2\n",
              " 5     0.4\n",
              " 6     0.3\n",
              " 7     0.2\n",
              " 8     0.2\n",
              " 9     0.1\n",
              " 10    0.2\n",
              " 11    0.2\n",
              " 12    0.1\n",
              " 13    0.1\n",
              " 14    0.2\n",
              " 15    0.4\n",
              " 16    0.4\n",
              " 17    0.3\n",
              " 18    0.3\n",
              " 19    0.3\n",
              " 20    0.2\n",
              " 21    0.4\n",
              " 22    0.2\n",
              " 23    0.5\n",
              " 24    0.2\n",
              " 25    0.2\n",
              " 26    0.4\n",
              " 27    0.2\n",
              " 28    0.2\n",
              " 29    0.2\n",
              " 30    0.2\n",
              " 31    0.4\n",
              " 32    0.1\n",
              " 33    0.2\n",
              " 34    0.2\n",
              " 35    0.2\n",
              " 36    0.2\n",
              " 37    0.1\n",
              " 38    0.2\n",
              " 39    0.2\n",
              " 40    0.3\n",
              " 41    0.3\n",
              " 42    0.2\n",
              " 43    0.6\n",
              " 44    0.4\n",
              " 45    0.3\n",
              " 46    0.2\n",
              " 47    0.2\n",
              " 48    0.2\n",
              " 49    0.2\n",
              " Name: petal_width, dtype: float64,\n",
              " 'versicolor': 50    1.4\n",
              " 51    1.5\n",
              " 52    1.5\n",
              " 53    1.3\n",
              " 54    1.5\n",
              " 55    1.3\n",
              " 56    1.6\n",
              " 57    1.0\n",
              " 58    1.3\n",
              " 59    1.4\n",
              " 60    1.0\n",
              " 61    1.5\n",
              " 62    1.0\n",
              " 63    1.4\n",
              " 64    1.3\n",
              " 65    1.4\n",
              " 66    1.5\n",
              " 67    1.0\n",
              " 68    1.5\n",
              " 69    1.1\n",
              " 70    1.8\n",
              " 71    1.3\n",
              " 72    1.5\n",
              " 73    1.2\n",
              " 74    1.3\n",
              " 75    1.4\n",
              " 76    1.4\n",
              " 77    1.7\n",
              " 78    1.5\n",
              " 79    1.0\n",
              " 80    1.1\n",
              " 81    1.0\n",
              " 82    1.2\n",
              " 83    1.6\n",
              " 84    1.5\n",
              " 85    1.6\n",
              " 86    1.5\n",
              " 87    1.3\n",
              " 88    1.3\n",
              " 89    1.3\n",
              " 90    1.2\n",
              " 91    1.4\n",
              " 92    1.2\n",
              " 93    1.0\n",
              " 94    1.3\n",
              " 95    1.2\n",
              " 96    1.3\n",
              " 97    1.3\n",
              " 98    1.1\n",
              " 99    1.3\n",
              " Name: petal_width, dtype: float64,\n",
              " 'virginica': 100    2.5\n",
              " 101    1.9\n",
              " 102    2.1\n",
              " 103    1.8\n",
              " 104    2.2\n",
              " 105    2.1\n",
              " 106    1.7\n",
              " 107    1.8\n",
              " 108    1.8\n",
              " 109    2.5\n",
              " 110    2.0\n",
              " 111    1.9\n",
              " 112    2.1\n",
              " 113    2.0\n",
              " 114    2.4\n",
              " 115    2.3\n",
              " 116    1.8\n",
              " 117    2.2\n",
              " 118    2.3\n",
              " 119    1.5\n",
              " 120    2.3\n",
              " 121    2.0\n",
              " 122    2.0\n",
              " 123    1.8\n",
              " 124    2.1\n",
              " 125    1.8\n",
              " 126    1.8\n",
              " 127    1.8\n",
              " 128    2.1\n",
              " 129    1.6\n",
              " 130    1.9\n",
              " 131    2.0\n",
              " 132    2.2\n",
              " 133    1.5\n",
              " 134    1.4\n",
              " 135    2.3\n",
              " 136    2.4\n",
              " 137    1.8\n",
              " 138    1.8\n",
              " 139    2.1\n",
              " 140    2.4\n",
              " 141    2.3\n",
              " 142    1.9\n",
              " 143    2.3\n",
              " 144    2.5\n",
              " 145    2.3\n",
              " 146    1.9\n",
              " 147    2.0\n",
              " 148    2.3\n",
              " 149    1.8\n",
              " Name: petal_width, dtype: float64}"
            ]
          },
          "metadata": {},
          "execution_count": 87
        }
      ]
    },
    {
      "cell_type": "code",
      "source": [
        "f,p=st.f_oneway(d_data['setosa'],d_data['versicolor'],d_data['virginica'])\n",
        "print(p)"
      ],
      "metadata": {
        "colab": {
          "base_uri": "https://localhost:8080/"
        },
        "id": "Dt0aV07ufE38",
        "outputId": "1880e8a1-27c3-4729-b890-bf15af55e966"
      },
      "execution_count": 89,
      "outputs": [
        {
          "output_type": "stream",
          "name": "stdout",
          "text": [
            "4.169445839443116e-85\n"
          ]
        }
      ]
    }
  ]
}