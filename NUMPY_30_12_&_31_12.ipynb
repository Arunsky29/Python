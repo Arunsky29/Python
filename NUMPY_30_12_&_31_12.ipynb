{
  "nbformat": 4,
  "nbformat_minor": 0,
  "metadata": {
    "colab": {
      "provenance": [],
      "authorship_tag": "ABX9TyNgd8htP3SYA4s47SGekwg6",
      "include_colab_link": true
    },
    "kernelspec": {
      "name": "python3",
      "display_name": "Python 3"
    },
    "language_info": {
      "name": "python"
    }
  },
  "cells": [
    {
      "cell_type": "markdown",
      "metadata": {
        "id": "view-in-github",
        "colab_type": "text"
      },
      "source": [
        "<a href=\"https://colab.research.google.com/github/Arunsky29/Python/blob/main/NUMPY_30_12_%26_31_12.ipynb\" target=\"_parent\"><img src=\"https://colab.research.google.com/assets/colab-badge.svg\" alt=\"Open In Colab\"/></a>"
      ]
    },
    {
      "cell_type": "markdown",
      "source": [
        "# INDEXING"
      ],
      "metadata": {
        "id": "9fbMMWu0UJ3m"
      }
    },
    {
      "cell_type": "code",
      "source": [
        "arr=np.array([1,2,3,4])\n",
        "print(arr[2])"
      ],
      "metadata": {
        "colab": {
          "base_uri": "https://localhost:8080/"
        },
        "id": "BLQF4YGyUNtq",
        "outputId": "c2b9fd30-3266-438d-937f-d89b6cfb0691"
      },
      "execution_count": 78,
      "outputs": [
        {
          "output_type": "stream",
          "name": "stdout",
          "text": [
            "3\n"
          ]
        }
      ]
    },
    {
      "cell_type": "code",
      "source": [
        "arr[2] = 33\n",
        "print(arr)"
      ],
      "metadata": {
        "colab": {
          "base_uri": "https://localhost:8080/"
        },
        "id": "DhW1vO9oUa1v",
        "outputId": "833fdfa8-0f4d-4165-fa18-2923764aca41"
      },
      "execution_count": 79,
      "outputs": [
        {
          "output_type": "stream",
          "name": "stdout",
          "text": [
            "[ 1  2 33  4]\n"
          ]
        }
      ]
    },
    {
      "cell_type": "code",
      "source": [
        "arr_2d=np.array([[1,2,3,4],[2,3,49,16],[22,33,44,55]])\n",
        "print(arr_2d)"
      ],
      "metadata": {
        "colab": {
          "base_uri": "https://localhost:8080/"
        },
        "id": "M23a19enUi8Q",
        "outputId": "f0f73321-c13d-4735-c6d4-4de9063faccf"
      },
      "execution_count": 80,
      "outputs": [
        {
          "output_type": "stream",
          "name": "stdout",
          "text": [
            "[[ 1  2  3  4]\n",
            " [ 2  3 49 16]\n",
            " [22 33 44 55]]\n"
          ]
        }
      ]
    },
    {
      "cell_type": "code",
      "source": [
        "arr_3d=np.array([[[1,2,3,4],[8,9,7,6],[7,6,5,4]],[[8,9,7,7],[8,9,7,6],[7,6,5,4]]])\n",
        "arr_3d[0][2][0]"
      ],
      "metadata": {
        "colab": {
          "base_uri": "https://localhost:8080/"
        },
        "id": "lcrr6UQNVE44",
        "outputId": "b30098ec-a4dc-4245-c5b9-8df1ba900375"
      },
      "execution_count": 85,
      "outputs": [
        {
          "output_type": "execute_result",
          "data": {
            "text/plain": [
              "7"
            ]
          },
          "metadata": {},
          "execution_count": 85
        }
      ]
    },
    {
      "cell_type": "markdown",
      "source": [
        "# SLICING"
      ],
      "metadata": {
        "id": "nkXH9QUuTdH3"
      }
    },
    {
      "cell_type": "code",
      "source": [
        "num=np.array([5,6,3,2,24,5,7,98,76,54,3])\n",
        "print(num)\n",
        "print(num[3:8])\n",
        "print(num[3:])\n",
        "print(num[:5])\n",
        "print(num[-5:-1])"
      ],
      "metadata": {
        "colab": {
          "base_uri": "https://localhost:8080/"
        },
        "id": "FhBxyCV5Thlw",
        "outputId": "3aa1abfb-cc0e-4bf8-df2e-4bbc1be5bb87"
      },
      "execution_count": 77,
      "outputs": [
        {
          "output_type": "stream",
          "name": "stdout",
          "text": [
            "[ 5  6  3  2 24  5  7 98 76 54  3]\n",
            "[ 2 24  5  7 98]\n",
            "[ 2 24  5  7 98 76 54  3]\n",
            "[ 5  6  3  2 24]\n",
            "[ 7 98 76 54]\n"
          ]
        }
      ]
    },
    {
      "cell_type": "markdown",
      "source": [
        "# Array Manipulations\n"
      ],
      "metadata": {
        "id": "pswIfOvo1tBS"
      }
    },
    {
      "cell_type": "code",
      "source": [
        "import numpy as np"
      ],
      "metadata": {
        "id": "tKlXTh1S27UR"
      },
      "execution_count": null,
      "outputs": []
    },
    {
      "cell_type": "code",
      "execution_count": null,
      "metadata": {
        "id": "H3R752rf1o3u"
      },
      "outputs": [],
      "source": [
        "arr_2d=np.array([[1,2,3,4],[]])"
      ]
    },
    {
      "cell_type": "code",
      "source": [
        "arr_2d[ arr_2d % 2==0]"
      ],
      "metadata": {
        "id": "e0uDIa8-1srW"
      },
      "execution_count": null,
      "outputs": []
    },
    {
      "cell_type": "code",
      "source": [
        "x=np.array([2,3])\n",
        "y=np.array([7,8])\n",
        "sum=np.add(x,y)\n",
        "print(sum)"
      ],
      "metadata": {
        "colab": {
          "base_uri": "https://localhost:8080/"
        },
        "id": "EkhQXZkQ2gpN",
        "outputId": "184bf7b6-4a2c-4d26-fdb8-56ca22917791"
      },
      "execution_count": null,
      "outputs": [
        {
          "output_type": "stream",
          "name": "stdout",
          "text": [
            "[ 9 11]\n"
          ]
        }
      ]
    },
    {
      "cell_type": "code",
      "source": [
        "a=np.array([1,2,3,4])\n",
        "print (a**2)"
      ],
      "metadata": {
        "colab": {
          "base_uri": "https://localhost:8080/"
        },
        "id": "9QQGRWF924Qw",
        "outputId": "690a0f2a-36bd-4e9b-8355-38cc84bee24c"
      },
      "execution_count": null,
      "outputs": [
        {
          "output_type": "stream",
          "name": "stdout",
          "text": [
            "[ 1  4  9 16]\n"
          ]
        }
      ]
    },
    {
      "cell_type": "code",
      "source": [
        "sal=np.array([20000,35000,60000])\n",
        "print(sal+2000)"
      ],
      "metadata": {
        "colab": {
          "base_uri": "https://localhost:8080/"
        },
        "id": "S_D-JD4T3Ncx",
        "outputId": "08b8d1c5-e511-4e8a-8d7d-3a02d120a29d"
      },
      "execution_count": null,
      "outputs": [
        {
          "output_type": "stream",
          "name": "stdout",
          "text": [
            "[22000 37000 62000]\n"
          ]
        }
      ]
    },
    {
      "cell_type": "code",
      "source": [
        "a=np.array([[1,2,3],[4,5,6],[7,8,9]])\n",
        "print(a)\n",
        "print(a.transpose)"
      ],
      "metadata": {
        "colab": {
          "base_uri": "https://localhost:8080/"
        },
        "id": "grrs2Ejn3atH",
        "outputId": "093de291-5f09-4a55-dd6c-87649e44cd80"
      },
      "execution_count": null,
      "outputs": [
        {
          "output_type": "stream",
          "name": "stdout",
          "text": [
            "[[1 2 3]\n",
            " [4 5 6]\n",
            " [7 8 9]]\n",
            "<built-in method transpose of numpy.ndarray object at 0x79704d2d6c70>\n"
          ]
        }
      ]
    },
    {
      "cell_type": "code",
      "source": [
        "i=np.eye(6)\n",
        "print(i)"
      ],
      "metadata": {
        "colab": {
          "base_uri": "https://localhost:8080/"
        },
        "id": "XeJ7gM6K37fr",
        "outputId": "5c10c3b3-3941-43ca-d819-ce85e248b643"
      },
      "execution_count": null,
      "outputs": [
        {
          "output_type": "stream",
          "name": "stdout",
          "text": [
            "[[1. 0. 0. 0. 0. 0.]\n",
            " [0. 1. 0. 0. 0. 0.]\n",
            " [0. 0. 1. 0. 0. 0.]\n",
            " [0. 0. 0. 1. 0. 0.]\n",
            " [0. 0. 0. 0. 1. 0.]\n",
            " [0. 0. 0. 0. 0. 1.]]\n"
          ]
        }
      ]
    },
    {
      "cell_type": "code",
      "source": [
        "m=np.ones((3,3))\n",
        "print(m)"
      ],
      "metadata": {
        "colab": {
          "base_uri": "https://localhost:8080/"
        },
        "id": "_KJqvunH4iBy",
        "outputId": "526409f4-524a-4d27-96d0-27e792b392f3"
      },
      "execution_count": null,
      "outputs": [
        {
          "output_type": "stream",
          "name": "stdout",
          "text": [
            "[[1. 1. 1.]\n",
            " [1. 1. 1.]\n",
            " [1. 1. 1.]]\n"
          ]
        }
      ]
    },
    {
      "cell_type": "code",
      "source": [
        "m=np.ones((3,3),dtype='i')\n",
        "print(m)"
      ],
      "metadata": {
        "colab": {
          "base_uri": "https://localhost:8080/"
        },
        "id": "FfijvFGi4HlR",
        "outputId": "68d5e209-bdc1-4201-9419-58584b60fabc"
      },
      "execution_count": null,
      "outputs": [
        {
          "output_type": "stream",
          "name": "stdout",
          "text": [
            "[[1 1 1]\n",
            " [1 1 1]\n",
            " [1 1 1]]\n"
          ]
        }
      ]
    },
    {
      "cell_type": "code",
      "source": [
        "print(i.astype('bool'))"
      ],
      "metadata": {
        "colab": {
          "base_uri": "https://localhost:8080/"
        },
        "id": "cZfKl2f650dw",
        "outputId": "eeb642b0-30f7-4663-cd90-fea29be0e151"
      },
      "execution_count": null,
      "outputs": [
        {
          "output_type": "stream",
          "name": "stdout",
          "text": [
            "[[ True False False False False False]\n",
            " [False  True False False False False]\n",
            " [False False  True False False False]\n",
            " [False False False  True False False]\n",
            " [False False False False  True False]\n",
            " [False False False False False  True]]\n"
          ]
        }
      ]
    },
    {
      "cell_type": "code",
      "source": [
        "a=np.array([[1,2,3],[4,5,6],[7,8,9]])\n",
        "b=np.array([[2,3,4],[5,6,7],[8,9,10]])\n",
        "print(np.matmul(a,b))"
      ],
      "metadata": {
        "colab": {
          "base_uri": "https://localhost:8080/"
        },
        "id": "lsx9OjLU515s",
        "outputId": "fac571ee-a8db-48ff-a041-9447bb96371c"
      },
      "execution_count": null,
      "outputs": [
        {
          "output_type": "stream",
          "name": "stdout",
          "text": [
            "[[ 36  42  48]\n",
            " [ 81  96 111]\n",
            " [126 150 174]]\n"
          ]
        }
      ]
    },
    {
      "cell_type": "code",
      "source": [],
      "metadata": {
        "id": "oEJdh75W6fLN"
      },
      "execution_count": null,
      "outputs": []
    },
    {
      "cell_type": "markdown",
      "source": [
        "# Array Broadcasting"
      ],
      "metadata": {
        "id": "1KHW3TJL7HxX"
      }
    },
    {
      "cell_type": "code",
      "source": [
        "np.arange(9)"
      ],
      "metadata": {
        "colab": {
          "base_uri": "https://localhost:8080/"
        },
        "id": "q6B2CbIQ7Mfq",
        "outputId": "c6e97fb3-aada-4546-882c-325fe83e2e20"
      },
      "execution_count": null,
      "outputs": [
        {
          "output_type": "execute_result",
          "data": {
            "text/plain": [
              "array([0, 1, 2, 3, 4, 5, 6, 7, 8])"
            ]
          },
          "metadata": {},
          "execution_count": 16
        }
      ]
    },
    {
      "cell_type": "code",
      "source": [
        "np.arange(5)+4"
      ],
      "metadata": {
        "colab": {
          "base_uri": "https://localhost:8080/"
        },
        "id": "mdjFXcyY79Ix",
        "outputId": "5bee170c-c5d2-432b-d16d-c8f3c57d3768"
      },
      "execution_count": null,
      "outputs": [
        {
          "output_type": "execute_result",
          "data": {
            "text/plain": [
              "array([4, 5, 6, 7, 8])"
            ]
          },
          "metadata": {},
          "execution_count": 17
        }
      ]
    },
    {
      "cell_type": "code",
      "source": [
        "k=np.ones((3,3))+np.arange(3)\n",
        "print(k)"
      ],
      "metadata": {
        "colab": {
          "base_uri": "https://localhost:8080/"
        },
        "id": "CCtfUaeQ8Bh7",
        "outputId": "976c096f-e2ef-4a16-c2e4-5877e2cc4e0d"
      },
      "execution_count": null,
      "outputs": [
        {
          "output_type": "stream",
          "name": "stdout",
          "text": [
            "[[1. 2. 3.]\n",
            " [1. 2. 3.]\n",
            " [1. 2. 3.]]\n"
          ]
        }
      ]
    },
    {
      "cell_type": "code",
      "source": [
        "np.arange(3).reshape(3,1)"
      ],
      "metadata": {
        "colab": {
          "base_uri": "https://localhost:8080/"
        },
        "id": "IEyOrKVw9KpY",
        "outputId": "bfb1fdc5-6d86-4b39-a38e-e5aa51c56dbd"
      },
      "execution_count": null,
      "outputs": [
        {
          "output_type": "execute_result",
          "data": {
            "text/plain": [
              "array([[0],\n",
              "       [1],\n",
              "       [2]])"
            ]
          },
          "metadata": {},
          "execution_count": 22
        }
      ]
    },
    {
      "cell_type": "code",
      "source": [
        "np.arange(3)+np.arange(3).reshape(3,1)"
      ],
      "metadata": {
        "colab": {
          "base_uri": "https://localhost:8080/"
        },
        "id": "AIEwh7qN9d_D",
        "outputId": "78c73855-ef3b-4e18-de7c-f01c4f9f9f1c"
      },
      "execution_count": null,
      "outputs": [
        {
          "output_type": "execute_result",
          "data": {
            "text/plain": [
              "array([[0, 1, 2],\n",
              "       [1, 2, 3],\n",
              "       [2, 3, 4]])"
            ]
          },
          "metadata": {},
          "execution_count": 23
        }
      ]
    },
    {
      "cell_type": "code",
      "source": [
        "a=np.array([1,2,3])\n",
        "b=np.array([[4],[5],[6]])\n",
        "c=a+b\n",
        "print(c)"
      ],
      "metadata": {
        "colab": {
          "base_uri": "https://localhost:8080/"
        },
        "id": "7x110ER9AOKs",
        "outputId": "0955000b-f505-44da-e042-43e903b06288"
      },
      "execution_count": null,
      "outputs": [
        {
          "output_type": "stream",
          "name": "stdout",
          "text": [
            "[[5 6 7]\n",
            " [6 7 8]\n",
            " [7 8 9]]\n"
          ]
        }
      ]
    },
    {
      "cell_type": "markdown",
      "source": [
        "# Array Broadcasting 2"
      ],
      "metadata": {
        "id": "vPXRh1oaA-dr"
      }
    },
    {
      "cell_type": "code",
      "source": [
        "a=np.array([[1,2],[3,4]])\n",
        "b=np.array([5,6])\n",
        "c=a+b\n",
        "print(c)"
      ],
      "metadata": {
        "colab": {
          "base_uri": "https://localhost:8080/"
        },
        "id": "Rej1ypBnBC1u",
        "outputId": "a3148a39-0df1-4e75-fa34-4ffee7d6456e"
      },
      "execution_count": null,
      "outputs": [
        {
          "output_type": "stream",
          "name": "stdout",
          "text": [
            "[[ 6  8]\n",
            " [ 8 10]]\n"
          ]
        }
      ]
    },
    {
      "cell_type": "code",
      "source": [
        "# Floating Point Broadcasting\n",
        "\n",
        "a=np.array([[0.0, 0.0, 0.0],[10.0, 10.0, 10.0],[20.0, 20.0, 20.0],[30.0, 30.0, 30.0]])\n",
        "b=np.array([1.0, 2.0, 3.0])\n",
        "print(a+b)"
      ],
      "metadata": {
        "colab": {
          "base_uri": "https://localhost:8080/"
        },
        "id": "dvhi00tpBSUq",
        "outputId": "fe12a2ec-4512-46e6-91ed-c9e197112c14"
      },
      "execution_count": null,
      "outputs": [
        {
          "output_type": "stream",
          "name": "stdout",
          "text": [
            "[[ 1.  2.  3.]\n",
            " [11. 12. 13.]\n",
            " [21. 22. 23.]\n",
            " [31. 32. 33.]]\n"
          ]
        }
      ]
    },
    {
      "cell_type": "markdown",
      "source": [],
      "metadata": {
        "id": "mscQhJz93-yD"
      }
    },
    {
      "cell_type": "markdown",
      "source": [
        "# Reshaping = Temp Changes"
      ],
      "metadata": {
        "id": "dTmiGrwtCLQK"
      }
    },
    {
      "cell_type": "code",
      "source": [
        "arr=np.arange(12)\n",
        "print(arr)\n",
        "arr.shape"
      ],
      "metadata": {
        "colab": {
          "base_uri": "https://localhost:8080/"
        },
        "id": "0nXW3esoCOH2",
        "outputId": "9db203e3-03f3-4877-9636-42a411b1555a"
      },
      "execution_count": null,
      "outputs": [
        {
          "output_type": "stream",
          "name": "stdout",
          "text": [
            "[ 0  1  2  3  4  5  6  7  8  9 10 11]\n"
          ]
        },
        {
          "output_type": "execute_result",
          "data": {
            "text/plain": [
              "(12,)"
            ]
          },
          "metadata": {},
          "execution_count": 32
        }
      ]
    },
    {
      "cell_type": "code",
      "source": [
        "arr.reshape(4,3)"
      ],
      "metadata": {
        "colab": {
          "base_uri": "https://localhost:8080/"
        },
        "id": "NtshbWPcCfQa",
        "outputId": "087a5bc3-7290-4c31-8c15-4ef6acb4dfde"
      },
      "execution_count": null,
      "outputs": [
        {
          "output_type": "execute_result",
          "data": {
            "text/plain": [
              "array([[ 0,  1,  2],\n",
              "       [ 3,  4,  5],\n",
              "       [ 6,  7,  8],\n",
              "       [ 9, 10, 11]])"
            ]
          },
          "metadata": {},
          "execution_count": 31
        }
      ]
    },
    {
      "cell_type": "code",
      "source": [
        "arr.reshape(2,6)"
      ],
      "metadata": {
        "colab": {
          "base_uri": "https://localhost:8080/"
        },
        "id": "ZREmd9gEClvi",
        "outputId": "79298a86-614b-4ec4-9772-f263bd8a25ed"
      },
      "execution_count": null,
      "outputs": [
        {
          "output_type": "execute_result",
          "data": {
            "text/plain": [
              "array([[ 0,  1,  2,  3,  4,  5],\n",
              "       [ 6,  7,  8,  9, 10, 11]])"
            ]
          },
          "metadata": {},
          "execution_count": 33
        }
      ]
    },
    {
      "cell_type": "code",
      "source": [
        "arr.reshape(6,2)"
      ],
      "metadata": {
        "colab": {
          "base_uri": "https://localhost:8080/"
        },
        "id": "bqdhxkmYCxXS",
        "outputId": "1122cea7-3bd2-49f1-d9ac-b74839fe550e"
      },
      "execution_count": null,
      "outputs": [
        {
          "output_type": "execute_result",
          "data": {
            "text/plain": [
              "array([[ 0,  1],\n",
              "       [ 2,  3],\n",
              "       [ 4,  5],\n",
              "       [ 6,  7],\n",
              "       [ 8,  9],\n",
              "       [10, 11]])"
            ]
          },
          "metadata": {},
          "execution_count": 34
        }
      ]
    },
    {
      "cell_type": "code",
      "source": [
        "arr"
      ],
      "metadata": {
        "colab": {
          "base_uri": "https://localhost:8080/"
        },
        "id": "nUW0WpLNC9AM",
        "outputId": "b464e690-4fca-4620-e9a7-f78944319057"
      },
      "execution_count": null,
      "outputs": [
        {
          "output_type": "execute_result",
          "data": {
            "text/plain": [
              "array([ 0,  1,  2,  3,  4,  5,  6,  7,  8,  9, 10, 11])"
            ]
          },
          "metadata": {},
          "execution_count": 35
        }
      ]
    },
    {
      "cell_type": "code",
      "source": [
        "print(arr.reshape(2,3,2))"
      ],
      "metadata": {
        "colab": {
          "base_uri": "https://localhost:8080/"
        },
        "id": "7LDt1euBDRIE",
        "outputId": "2e34542d-7113-48db-ab4e-ab60a528912e"
      },
      "execution_count": null,
      "outputs": [
        {
          "output_type": "stream",
          "name": "stdout",
          "text": [
            "[[[ 0  1]\n",
            "  [ 2  3]\n",
            "  [ 4  5]]\n",
            "\n",
            " [[ 6  7]\n",
            "  [ 8  9]\n",
            "  [10 11]]]\n"
          ]
        }
      ]
    },
    {
      "cell_type": "code",
      "source": [
        "a=np.arange(6).reshape(3,2)\n",
        "print(a)"
      ],
      "metadata": {
        "colab": {
          "base_uri": "https://localhost:8080/"
        },
        "id": "b4hCJgoaDjkE",
        "outputId": "2239d0a1-635b-407c-ceff-c8d63baf81d9"
      },
      "execution_count": null,
      "outputs": [
        {
          "output_type": "stream",
          "name": "stdout",
          "text": [
            "[[0 1]\n",
            " [2 3]\n",
            " [4 5]]\n"
          ]
        }
      ]
    },
    {
      "cell_type": "markdown",
      "source": [
        "# Flattening = Higher Dimension to Lower Dimension(3d-1d, etc)"
      ],
      "metadata": {
        "id": "4wvINUY6D61O"
      }
    },
    {
      "cell_type": "code",
      "source": [
        "arr=np.array([[1,2,3],[4,5,6]])\n",
        "print(arr.shape)"
      ],
      "metadata": {
        "colab": {
          "base_uri": "https://localhost:8080/"
        },
        "id": "_-dzQgKtEo-d",
        "outputId": "65c86cdb-49bf-41dc-a8c3-6d9324cddb4f"
      },
      "execution_count": null,
      "outputs": [
        {
          "output_type": "stream",
          "name": "stdout",
          "text": [
            "(2, 3)\n"
          ]
        }
      ]
    },
    {
      "cell_type": "code",
      "source": [
        "k= print(arr.reshape(-1))"
      ],
      "metadata": {
        "colab": {
          "base_uri": "https://localhost:8080/"
        },
        "id": "arGE6PntEblR",
        "outputId": "d75eda2b-07a9-4b0b-d64f-ee5b3a04ec59"
      },
      "execution_count": null,
      "outputs": [
        {
          "output_type": "stream",
          "name": "stdout",
          "text": [
            "[1 2 3 4 5 6]\n"
          ]
        }
      ]
    },
    {
      "cell_type": "markdown",
      "source": [
        "# Resizing = Changes Original Data"
      ],
      "metadata": {
        "id": "gO4_R41nFQ-d"
      }
    },
    {
      "cell_type": "code",
      "source": [
        "data=np.array([10,20,30,40,50,60,70,80])\n",
        "print('Original \\n',data)\n",
        "print('\\n Resized Data')\n",
        "data.resize(4,2)\n",
        "print(data)"
      ],
      "metadata": {
        "colab": {
          "base_uri": "https://localhost:8080/"
        },
        "id": "F47mgjExFS5y",
        "outputId": "c8805773-2e1e-4e21-d887-72b64e65eb5b"
      },
      "execution_count": null,
      "outputs": [
        {
          "output_type": "stream",
          "name": "stdout",
          "text": [
            "Original \n",
            " [10 20 30 40 50 60 70 80]\n",
            "\n",
            " Resized Data\n",
            "[[10 20]\n",
            " [30 40]\n",
            " [50 60]\n",
            " [70 80]]\n"
          ]
        }
      ]
    },
    {
      "cell_type": "code",
      "source": [],
      "metadata": {
        "id": "B7vlF4MzGvcW"
      },
      "execution_count": null,
      "outputs": []
    },
    {
      "cell_type": "markdown",
      "source": [
        "\n",
        "\n"
      ],
      "metadata": {
        "id": "85xQfHk64EU3"
      }
    },
    {
      "cell_type": "markdown",
      "source": [
        "# STACK - JOIN,MERGE,COMBINE(2 1D [ ] AND [ ] ARRAY COMBINES = 2D ARRAY[[ ]])\n",
        "# TYPES\n",
        "# STACK - COMBINE\n",
        "# VSTACK - VERTICAL STACK\n",
        "# HSTACK - HORIZONTAL STACK\n",
        "# DSTACK - DEPTH STACK"
      ],
      "metadata": {
        "id": "GoCjF5656yZj"
      }
    },
    {
      "cell_type": "code",
      "source": [
        "import numpy as np\n",
        "x = np.array([1,2,3])\n",
        "y = np.array([3,6,9])\n",
        "print(np.stack((x,y)))"
      ],
      "metadata": {
        "colab": {
          "base_uri": "https://localhost:8080/"
        },
        "id": "t43WqCoZ6vsW",
        "outputId": "0535a7f3-24bd-465d-ff05-eb4081945ad8"
      },
      "execution_count": 5,
      "outputs": [
        {
          "output_type": "stream",
          "name": "stdout",
          "text": [
            "[[1 2 3]\n",
            " [3 6 9]]\n"
          ]
        }
      ]
    },
    {
      "cell_type": "code",
      "source": [
        "print(np.stack((x,y),axis=0)) #row"
      ],
      "metadata": {
        "colab": {
          "base_uri": "https://localhost:8080/"
        },
        "id": "KScQz1dj8HX8",
        "outputId": "52f993a9-a7cc-4770-9dbf-38a6b6286075"
      },
      "execution_count": 6,
      "outputs": [
        {
          "output_type": "stream",
          "name": "stdout",
          "text": [
            "[[1 2 3]\n",
            " [3 6 9]]\n"
          ]
        }
      ]
    },
    {
      "cell_type": "code",
      "source": [
        "print(np.stack((x,y),axis=1)) #column"
      ],
      "metadata": {
        "colab": {
          "base_uri": "https://localhost:8080/"
        },
        "id": "20BfwomC8bMq",
        "outputId": "7cd7f499-5958-467c-d7b6-ff372374111c"
      },
      "execution_count": 8,
      "outputs": [
        {
          "output_type": "stream",
          "name": "stdout",
          "text": [
            "[[1 3]\n",
            " [2 6]\n",
            " [3 9]]\n"
          ]
        }
      ]
    },
    {
      "cell_type": "code",
      "source": [
        "print(np.vstack((x,y))) #vstack - row"
      ],
      "metadata": {
        "colab": {
          "base_uri": "https://localhost:8080/"
        },
        "id": "iG0TYHYe8mIc",
        "outputId": "e8aad3e2-7e8e-49f3-a76d-73ee20357891"
      },
      "execution_count": 9,
      "outputs": [
        {
          "output_type": "stream",
          "name": "stdout",
          "text": [
            "[[1 2 3]\n",
            " [3 6 9]]\n"
          ]
        }
      ]
    },
    {
      "cell_type": "code",
      "source": [
        "a=np.array([[1,2],[3,4]])\n",
        "b=np.array([[5,6],[7,8]])\n",
        "print(np.vstack((a,b)))"
      ],
      "metadata": {
        "colab": {
          "base_uri": "https://localhost:8080/"
        },
        "id": "YOdl3nl392ye",
        "outputId": "b00a5a52-514b-4fee-fdb2-bf5de0fb4330"
      },
      "execution_count": 13,
      "outputs": [
        {
          "output_type": "stream",
          "name": "stdout",
          "text": [
            "[[1 2]\n",
            " [3 4]\n",
            " [5 6]\n",
            " [7 8]]\n"
          ]
        }
      ]
    },
    {
      "cell_type": "code",
      "source": [
        "print(np.hstack((x,y))) #hstack"
      ],
      "metadata": {
        "colab": {
          "base_uri": "https://localhost:8080/"
        },
        "id": "bDsJHmT08xds",
        "outputId": "f5fe5fd3-a668-41fe-8c6a-ed25531a64a8"
      },
      "execution_count": 10,
      "outputs": [
        {
          "output_type": "stream",
          "name": "stdout",
          "text": [
            "[1 2 3 3 6 9]\n"
          ]
        }
      ]
    },
    {
      "cell_type": "code",
      "source": [
        "a=np.array([[1,2],[3,4]])\n",
        "b=np.array([[5,6],[7,8]])\n",
        "print(np.hstack((a,b)))"
      ],
      "metadata": {
        "colab": {
          "base_uri": "https://localhost:8080/"
        },
        "id": "qgqsxIYA9KVM",
        "outputId": "89060865-9342-477b-85e4-05b7e46bebe4"
      },
      "execution_count": 12,
      "outputs": [
        {
          "output_type": "stream",
          "name": "stdout",
          "text": [
            "[[1 2 5 6]\n",
            " [3 4 7 8]]\n"
          ]
        }
      ]
    },
    {
      "cell_type": "code",
      "source": [
        "print(np.dstack((x,y))) #dstack - vertical(3d)"
      ],
      "metadata": {
        "colab": {
          "base_uri": "https://localhost:8080/"
        },
        "id": "DfJJK7rf8-eI",
        "outputId": "a094928d-35f2-47de-955f-8fc87b47b821"
      },
      "execution_count": 11,
      "outputs": [
        {
          "output_type": "stream",
          "name": "stdout",
          "text": [
            "[[[1 3]\n",
            "  [2 6]\n",
            "  [3 9]]]\n"
          ]
        }
      ]
    },
    {
      "cell_type": "code",
      "source": [
        "a=np.array([[1,2],[3,4]])\n",
        "b=np.array([[5,6],[7,8]])\n",
        "print(np.dstack((a,b)))"
      ],
      "metadata": {
        "colab": {
          "base_uri": "https://localhost:8080/"
        },
        "id": "FpnHOLDt-Lh6",
        "outputId": "bc69c2a5-c6b8-4a09-bead-0f620200bc9e"
      },
      "execution_count": 14,
      "outputs": [
        {
          "output_type": "stream",
          "name": "stdout",
          "text": [
            "[[[1 5]\n",
            "  [2 6]]\n",
            "\n",
            " [[3 7]\n",
            "  [4 8]]]\n"
          ]
        }
      ]
    },
    {
      "cell_type": "code",
      "source": [
        "# Dimensions are not Same = Value Error\n",
        "a=np.array([[1,2],[3,4]])\n",
        "b=np.array([[1],[2]]).reshape(1,2) # 1row and 2 column\n",
        "print(np.vstack((a,b)))"
      ],
      "metadata": {
        "colab": {
          "base_uri": "https://localhost:8080/"
        },
        "id": "peSFRIJq-a9s",
        "outputId": "60a256bf-93c5-48bc-fed2-f76d92d3835b"
      },
      "execution_count": 15,
      "outputs": [
        {
          "output_type": "stream",
          "name": "stdout",
          "text": [
            "[[1 2]\n",
            " [3 4]\n",
            " [1 2]]\n"
          ]
        }
      ]
    },
    {
      "cell_type": "markdown",
      "source": [
        "# SPLIT"
      ],
      "metadata": {
        "id": "kzVOHZ-oAUpo"
      }
    },
    {
      "cell_type": "code",
      "source": [
        "arr=np.array([[1,2,3],[4,5,6],[7,8,9]])\n",
        "spl=np.split(arr,3)\n",
        "print('array = \\n',arr)\n",
        "print('split = ',spl)"
      ],
      "metadata": {
        "colab": {
          "base_uri": "https://localhost:8080/"
        },
        "id": "AljMfve9_nDz",
        "outputId": "68b2f2c8-f5cb-4701-f5f7-6c350fd95df0"
      },
      "execution_count": 19,
      "outputs": [
        {
          "output_type": "stream",
          "name": "stdout",
          "text": [
            "array = \n",
            " [[1 2 3]\n",
            " [4 5 6]\n",
            " [7 8 9]]\n",
            "split =  [array([[1, 2, 3]]), array([[4, 5, 6]]), array([[7, 8, 9]])]\n"
          ]
        }
      ]
    },
    {
      "cell_type": "code",
      "source": [
        "spl=np.split(arr,3,axis=0)\n",
        "print(spl)"
      ],
      "metadata": {
        "colab": {
          "base_uri": "https://localhost:8080/"
        },
        "id": "-_vrkWVOBHty",
        "outputId": "54c700ee-5a06-44fd-b7e7-a7213350442f"
      },
      "execution_count": 20,
      "outputs": [
        {
          "output_type": "stream",
          "name": "stdout",
          "text": [
            "[array([[1, 2, 3]]), array([[4, 5, 6]]), array([[7, 8, 9]])]\n"
          ]
        }
      ]
    },
    {
      "cell_type": "code",
      "source": [
        "spl=np.split(arr,3,axis=1)\n",
        "print(spl)"
      ],
      "metadata": {
        "colab": {
          "base_uri": "https://localhost:8080/"
        },
        "id": "h6O7WzncBb63",
        "outputId": "5c1cf36d-9641-4aae-ea28-1ce48f221a98"
      },
      "execution_count": 21,
      "outputs": [
        {
          "output_type": "stream",
          "name": "stdout",
          "text": [
            "[array([[1],\n",
            "       [4],\n",
            "       [7]]), array([[2],\n",
            "       [5],\n",
            "       [8]]), array([[3],\n",
            "       [6],\n",
            "       [9]])]\n"
          ]
        }
      ]
    },
    {
      "cell_type": "code",
      "source": [
        "sp2=np.split(arr,indices_or_sections=[1],axis=1)\n",
        "print(sp2)"
      ],
      "metadata": {
        "colab": {
          "base_uri": "https://localhost:8080/"
        },
        "id": "RtV1ea5tByjx",
        "outputId": "bf367620-0ebf-4a21-b5f7-0483955274ce"
      },
      "execution_count": 22,
      "outputs": [
        {
          "output_type": "stream",
          "name": "stdout",
          "text": [
            "[array([[1],\n",
            "       [4],\n",
            "       [7]]), array([[2, 3],\n",
            "       [5, 6],\n",
            "       [8, 9]])]\n"
          ]
        }
      ]
    },
    {
      "cell_type": "code",
      "source": [
        "sp2=np.split(arr,indices_or_sections=[2],axis=1)\n",
        "print(sp2)"
      ],
      "metadata": {
        "colab": {
          "base_uri": "https://localhost:8080/"
        },
        "id": "FwFflpU0CGOT",
        "outputId": "e21de3ac-d4ea-4a89-baeb-d254ee161c89"
      },
      "execution_count": 23,
      "outputs": [
        {
          "output_type": "stream",
          "name": "stdout",
          "text": [
            "[array([[1, 2],\n",
            "       [4, 5],\n",
            "       [7, 8]]), array([[3],\n",
            "       [6],\n",
            "       [9]])]\n"
          ]
        }
      ]
    },
    {
      "cell_type": "code",
      "source": [
        "for col in sp2:\n",
        "  print(col)"
      ],
      "metadata": {
        "colab": {
          "base_uri": "https://localhost:8080/"
        },
        "id": "z4cO9huMDnja",
        "outputId": "72918d02-d689-42d1-bf50-55bf67cb65f9"
      },
      "execution_count": 24,
      "outputs": [
        {
          "output_type": "stream",
          "name": "stdout",
          "text": [
            "[[1 2]\n",
            " [4 5]\n",
            " [7 8]]\n",
            "[[3]\n",
            " [6]\n",
            " [9]]\n"
          ]
        }
      ]
    },
    {
      "cell_type": "markdown",
      "source": [
        "# TRIGNOMETRIC FUNCTIONS ON NUMPY"
      ],
      "metadata": {
        "id": "9X9BW5r4EVS3"
      }
    },
    {
      "cell_type": "code",
      "source": [
        "print(np.sin(90),\n",
        "np.cos(0),\n",
        "np.tan(0)) # radian values"
      ],
      "metadata": {
        "colab": {
          "base_uri": "https://localhost:8080/"
        },
        "id": "W6rwG7XvEaJB",
        "outputId": "5283b621-4a1e-4bd5-c725-a5d51eddea85"
      },
      "execution_count": 31,
      "outputs": [
        {
          "output_type": "stream",
          "name": "stdout",
          "text": [
            "0.8939966636005579 1.0 0.0\n"
          ]
        }
      ]
    },
    {
      "cell_type": "code",
      "source": [
        "arr=np.array([0,45,60])\n",
        "print(np.tan(arr * np.pi/180)) # degree values\n",
        "\n",
        "import math\n",
        "math.sqrt(3) #tan60deg"
      ],
      "metadata": {
        "colab": {
          "base_uri": "https://localhost:8080/"
        },
        "id": "_nxCuFvBEfA5",
        "outputId": "9a4dbbbb-ace6-409f-c501-adbe47c93ac5"
      },
      "execution_count": 34,
      "outputs": [
        {
          "output_type": "stream",
          "name": "stdout",
          "text": [
            "[0.         1.         1.73205081]\n"
          ]
        },
        {
          "output_type": "execute_result",
          "data": {
            "text/plain": [
              "1.7320508075688772"
            ]
          },
          "metadata": {},
          "execution_count": 34
        }
      ]
    },
    {
      "cell_type": "markdown",
      "source": [
        "# EXPONENTIAL FUNCTIONS\n",
        "# LOGARITHMIC FUNCTIONS\n",
        "# STATISTICAL FUNCTIONS"
      ],
      "metadata": {
        "id": "RKcI89KfFxc0"
      }
    },
    {
      "cell_type": "code",
      "source": [
        "print(math.exp(3))\n",
        "print(np.exp(3))"
      ],
      "metadata": {
        "colab": {
          "base_uri": "https://localhost:8080/"
        },
        "id": "QtRgdJt5F0xy",
        "outputId": "9dfbeb88-46a8-4a83-ac21-e1553477608a"
      },
      "execution_count": 35,
      "outputs": [
        {
          "output_type": "stream",
          "name": "stdout",
          "text": [
            "20.085536923187668\n",
            "20.085536923187668\n"
          ]
        }
      ]
    },
    {
      "cell_type": "code",
      "source": [
        "# Logarithmic Functions\n",
        "\n",
        "np.log(1)"
      ],
      "metadata": {
        "colab": {
          "base_uri": "https://localhost:8080/"
        },
        "id": "xTLD40lwGNKQ",
        "outputId": "9678a08f-d00a-41bb-b066-37cabc09b971"
      },
      "execution_count": 37,
      "outputs": [
        {
          "output_type": "execute_result",
          "data": {
            "text/plain": [
              "0.0"
            ]
          },
          "metadata": {},
          "execution_count": 37
        }
      ]
    },
    {
      "cell_type": "code",
      "source": [
        "num=np.array([1,2,3,4,5])\n",
        "print(np.log(num))\n",
        "print(np.log10(num))"
      ],
      "metadata": {
        "colab": {
          "base_uri": "https://localhost:8080/"
        },
        "id": "s-DWpvjkGhUz",
        "outputId": "9a96584c-5cf7-4b9e-f36e-b9bd3d994183"
      },
      "execution_count": 39,
      "outputs": [
        {
          "output_type": "stream",
          "name": "stdout",
          "text": [
            "[0.         0.69314718 1.09861229 1.38629436 1.60943791]\n",
            "[0.         0.30103    0.47712125 0.60205999 0.69897   ]\n"
          ]
        }
      ]
    },
    {
      "cell_type": "code",
      "source": [
        "# STATISTICAL FUNCTIONS\n",
        "import statistics as s\n",
        "print(s.mean([10,20,30])) #mean - 10+20+30/3(avg)\n",
        "print(np.mean([10,20,30]))"
      ],
      "metadata": {
        "colab": {
          "base_uri": "https://localhost:8080/"
        },
        "id": "NJfyQwvkG0Tx",
        "outputId": "c13de29f-7555-4b80-e172-7375647f72d0"
      },
      "execution_count": 44,
      "outputs": [
        {
          "output_type": "stream",
          "name": "stdout",
          "text": [
            "20\n",
            "20.0\n"
          ]
        }
      ]
    },
    {
      "cell_type": "code",
      "source": [
        "# median - sort then middle value\n",
        "print(s.median([12,3,4,6,10]))\n",
        "print(np.median([12,3,4,6,10]))"
      ],
      "metadata": {
        "colab": {
          "base_uri": "https://localhost:8080/"
        },
        "id": "SZvHgBI2HoX8",
        "outputId": "a13ace4c-ef82-4750-d1af-5b8b62ff2691"
      },
      "execution_count": 46,
      "outputs": [
        {
          "output_type": "stream",
          "name": "stdout",
          "text": [
            "6\n",
            "6.0\n"
          ]
        }
      ]
    },
    {
      "cell_type": "code",
      "source": [
        "a=np.array([[1,2],[3,4]])\n",
        "print(np.std(a)) # Standard Deviation\n",
        "print(np.var(a)) # Variance\n",
        "print(np.sum(a)) # Array Aggregations\n",
        "print(np.min(a))\n",
        "print(np.max(a))"
      ],
      "metadata": {
        "colab": {
          "base_uri": "https://localhost:8080/"
        },
        "id": "Jm9vHJYkIVvR",
        "outputId": "348e4d95-28e0-45c9-d6a4-0e9f681aa774"
      },
      "execution_count": 50,
      "outputs": [
        {
          "output_type": "stream",
          "name": "stdout",
          "text": [
            "1.118033988749895\n",
            "1.25\n",
            "10\n",
            "1\n",
            "4\n"
          ]
        }
      ]
    },
    {
      "cell_type": "code",
      "source": [
        "arr=np.matrix([[1,2,3],[4,5,6],[7,8,9]])\n",
        "arr"
      ],
      "metadata": {
        "colab": {
          "base_uri": "https://localhost:8080/"
        },
        "id": "ToH6MvwqI_mS",
        "outputId": "e64ac49b-80dd-42e6-bfee-6b47d8885e3f"
      },
      "execution_count": 52,
      "outputs": [
        {
          "output_type": "execute_result",
          "data": {
            "text/plain": [
              "matrix([[1, 2, 3],\n",
              "        [4, 5, 6],\n",
              "        [7, 8, 9]])"
            ]
          },
          "metadata": {},
          "execution_count": 52
        }
      ]
    },
    {
      "cell_type": "code",
      "source": [
        "# Sorting\n",
        "arr=np.array([22,33,4,11,66])\n",
        "np.sort(arr)"
      ],
      "metadata": {
        "colab": {
          "base_uri": "https://localhost:8080/"
        },
        "id": "GIkifQB5JpCY",
        "outputId": "f4834323-5344-47a4-a6cb-d7f2a223c1de"
      },
      "execution_count": 53,
      "outputs": [
        {
          "output_type": "execute_result",
          "data": {
            "text/plain": [
              "array([ 4, 11, 22, 33, 66])"
            ]
          },
          "metadata": {},
          "execution_count": 53
        }
      ]
    },
    {
      "cell_type": "code",
      "source": [
        "arr=np.matrix([[1,12,3],[74,25,16],[87,18,9]])\n",
        "print(np.sort(arr)) # Ascending Row Wise\n",
        "print(arr[::-1]) # Single Dimension only works in descending order sorting"
      ],
      "metadata": {
        "colab": {
          "base_uri": "https://localhost:8080/"
        },
        "id": "HMRmzQ_3J3xC",
        "outputId": "9963d550-bde0-4170-96ed-5b9c346e0d54"
      },
      "execution_count": 59,
      "outputs": [
        {
          "output_type": "stream",
          "name": "stdout",
          "text": [
            "[[ 1  3 12]\n",
            " [16 25 74]\n",
            " [ 9 18 87]]\n",
            "[[87 18  9]\n",
            " [74 25 16]\n",
            " [ 1 12  3]]\n"
          ]
        }
      ]
    },
    {
      "cell_type": "markdown",
      "source": [
        "# SEARCHING"
      ],
      "metadata": {
        "id": "1ZDs5nsiLBt4"
      }
    },
    {
      "cell_type": "code",
      "source": [
        "# searchsorted - Indexing and Sorting\n",
        "arr=[2,3,4,5,6]\n",
        "print('input',arr)\n",
        "arrr=[12,33,4,15,76]\n",
        "output=np.searchsorted(arr,4)\n",
        "out=np.searchsorted(arrr,4)\n",
        "print(output)\n",
        "print(arrr)\n",
        "print(out)"
      ],
      "metadata": {
        "colab": {
          "base_uri": "https://localhost:8080/"
        },
        "id": "094GVHk5KT6g",
        "outputId": "b93267c5-bd72-4061-bd54-5150b457c7b5"
      },
      "execution_count": 62,
      "outputs": [
        {
          "output_type": "stream",
          "name": "stdout",
          "text": [
            "input [2, 3, 4, 5, 6]\n",
            "2\n",
            "[12, 33, 4, 15, 76]\n",
            "0\n"
          ]
        }
      ]
    },
    {
      "cell_type": "markdown",
      "source": [
        "# ADVANCED INDEXING"
      ],
      "metadata": {
        "id": "QiZDkDj2OwpZ"
      }
    },
    {
      "cell_type": "code",
      "source": [],
      "metadata": {
        "id": "RPrYzux6D5b-"
      },
      "execution_count": null,
      "outputs": []
    },
    {
      "cell_type": "code",
      "source": [
        "# Indexed Array\n",
        "a=np.arange(10,1,-2)\n",
        "print(a)"
      ],
      "metadata": {
        "colab": {
          "base_uri": "https://localhost:8080/"
        },
        "id": "nPBkHziSNrCC",
        "outputId": "f9fc1693-379a-422e-e097-fc84153cda5c"
      },
      "execution_count": 63,
      "outputs": [
        {
          "output_type": "stream",
          "name": "stdout",
          "text": [
            "[10  8  6  4  2]\n"
          ]
        }
      ]
    },
    {
      "cell_type": "code",
      "source": [
        "# Indexes are specifies inside np.array method\n",
        "newarr=a[np.array([3,1,2])]\n",
        "print(newarr)"
      ],
      "metadata": {
        "colab": {
          "base_uri": "https://localhost:8080/"
        },
        "id": "CJyAbPX2OE62",
        "outputId": "e8707c74-fc1c-4f83-f9fb-9922f743d512"
      },
      "execution_count": 64,
      "outputs": [
        {
          "output_type": "stream",
          "name": "stdout",
          "text": [
            "[4 8 6]\n"
          ]
        }
      ]
    },
    {
      "cell_type": "code",
      "source": [
        "# Fancy Indexing\n",
        "arr=np.array([23,17,55,76,12,33,2,99]) #1D\n",
        "print('old = ',arr)\n",
        "indices=[1,3,6]\n",
        "newvalues=[10,20,30] #insert\n",
        "arr[indices]=newvalues\n",
        "print('new = ',arr)"
      ],
      "metadata": {
        "colab": {
          "base_uri": "https://localhost:8080/"
        },
        "id": "ubt7Zt6bO0zD",
        "outputId": "ccb8b9b8-9f65-4e2b-9c01-5086c1d00301"
      },
      "execution_count": 66,
      "outputs": [
        {
          "output_type": "stream",
          "name": "stdout",
          "text": [
            "old =  [23 17 55 76 12 33  2 99]\n",
            "new =  [23 10 55 20 12 33 30 99]\n"
          ]
        }
      ]
    },
    {
      "cell_type": "code",
      "source": [
        "arr=np.array([[1,2,3],[15,7,19],[63,55,33]]) #2D\n",
        "print('Array = \\n',arr)\n",
        "# Specific Rows\n",
        "rows=arr[[0,2],:]\n",
        "print('rows = \\n',rows)\n",
        "# Specific Column\n",
        "column=arr[:,[0,2]]\n",
        "print('column = \\n',column)"
      ],
      "metadata": {
        "colab": {
          "base_uri": "https://localhost:8080/"
        },
        "id": "6lcBmjE2Pt4a",
        "outputId": "b5cfa7f7-2db6-4a4f-ec06-1ed116898be1"
      },
      "execution_count": 75,
      "outputs": [
        {
          "output_type": "stream",
          "name": "stdout",
          "text": [
            "Array = \n",
            " [[ 1  2  3]\n",
            " [15  7 19]\n",
            " [63 55 33]]\n",
            "rows = \n",
            " [[ 1  2  3]\n",
            " [63 55 33]]\n",
            "column = \n",
            " [[ 1  3]\n",
            " [15 19]\n",
            " [63 33]]\n"
          ]
        }
      ]
    }
  ]
}